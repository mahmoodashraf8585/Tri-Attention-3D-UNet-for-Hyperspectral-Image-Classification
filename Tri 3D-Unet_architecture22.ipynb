{
  "nbformat": 4,
  "nbformat_minor": 0,
  "metadata": {
    "colab": {
      "provenance": [],
      "gpuType": "T4"
    },
    "kernelspec": {
      "name": "python3",
      "display_name": "Python 3"
    },
    "language_info": {
      "name": "python"
    },
    "accelerator": "GPU"
  },
  "cells": [
    {
      "cell_type": "code",
      "source": [
        "!pip install spectral seed -qU"
      ],
      "metadata": {
        "id": "8cUDkYYjDQPf",
        "colab": {
          "base_uri": "https://localhost:8080/"
        },
        "outputId": "00f00271-4576-40b8-b77d-d0d2416265b8"
      },
      "execution_count": null,
      "outputs": [
        {
          "output_type": "stream",
          "name": "stdout",
          "text": [
            "\u001b[2K     \u001b[90m━━━━━━━━━━━━━━━━━━━━━━━━━━━━━━━━━━━━━━━━\u001b[0m \u001b[32m212.9/212.9 kB\u001b[0m \u001b[31m5.6 MB/s\u001b[0m eta \u001b[36m0:00:00\u001b[0m\n",
            "\u001b[2K     \u001b[90m━━━━━━━━━━━━━━━━━━━━━━━━━━━━━━━━━━━━━━━━\u001b[0m \u001b[32m366.1/366.1 kB\u001b[0m \u001b[31m15.8 MB/s\u001b[0m eta \u001b[36m0:00:00\u001b[0m\n",
            "\u001b[?25h  Preparing metadata (setup.py) ... \u001b[?25l\u001b[?25hdone\n",
            "  Building wheel for seed (setup.py) ... \u001b[?25l\u001b[?25hdone\n"
          ]
        }
      ]
    },
    {
      "cell_type": "code",
      "execution_count": null,
      "metadata": {
        "colab": {
          "base_uri": "https://localhost:8080/",
          "height": 17
        },
        "id": "Z96VaETrsar0",
        "outputId": "b84c5b0f-c9b7-446a-a86c-3692112ee8e3"
      },
      "outputs": [
        {
          "output_type": "display_data",
          "data": {
            "text/html": [
              "        <script type=\"text/javascript\">\n",
              "        window.PlotlyConfig = {MathJaxConfig: 'local'};\n",
              "        if (window.MathJax && window.MathJax.Hub && window.MathJax.Hub.Config) {window.MathJax.Hub.Config({SVG: {font: \"STIX-Web\"}});}\n",
              "        if (typeof require !== 'undefined') {\n",
              "        require.undef(\"plotly\");\n",
              "        requirejs.config({\n",
              "            paths: {\n",
              "                'plotly': ['https://cdn.plot.ly/plotly-2.24.1.min']\n",
              "            }\n",
              "        });\n",
              "        require(['plotly'], function(Plotly) {\n",
              "            window._Plotly = Plotly;\n",
              "        });\n",
              "        }\n",
              "        </script>\n",
              "        "
            ]
          },
          "metadata": {}
        }
      ],
      "source": [
        "import keras\n",
        "import numpy as np\n",
        "from keras.layers import* #Conv2D, Conv3D, Flatten, Dense, Reshape, BatchNormalization\n",
        "from keras.layers import Dropout, Input\n",
        "from keras.layers import Conv3D, Input, MaxPooling3D, Dropout, concatenate, UpSampling3D\n",
        "from keras.models import Model\n",
        "from tensorflow.keras.optimizers import Adam, SGD\n",
        "from keras.callbacks import ModelCheckpoint\n",
        "from tensorflow.python.keras.utils import np_utils\n",
        "from sklearn.decomposition import PCA\n",
        "from sklearn.model_selection import train_test_split\n",
        "from sklearn.model_selection import KFold\n",
        "from sklearn.metrics import confusion_matrix, accuracy_score, classification_report, cohen_kappa_score\n",
        "from operator import truediv\n",
        "from plotly.offline import init_notebook_mode\n",
        "import random\n",
        "from keras import regularizers\n",
        "import time\n",
        "from numpy.random import seed\n",
        "from sklearn import preprocessing\n",
        "import matplotlib.pyplot as plt\n",
        "import scipy.io as sio\n",
        "import os\n",
        "from keras.utils import to_categorical\n",
        "from keras.src import backend\n",
        "from keras.src.layers.merging.base_merge import _Merge\n",
        "from keras.src.utils import tf_utils\n",
        "import spectral\n",
        "\n",
        "init_notebook_mode(connected=True)"
      ]
    },
    {
      "cell_type": "code",
      "source": [
        "import tensorflow.compat.v2 as tf\n",
        "print(\"Num GPUs Available: \", len(tf.config.list_physical_devices('GPU')))"
      ],
      "metadata": {
        "colab": {
          "base_uri": "https://localhost:8080/"
        },
        "id": "o-oZUZsDDdeT",
        "outputId": "ee5c7e32-cc90-4629-b1b6-bf5f865fa222"
      },
      "execution_count": null,
      "outputs": [
        {
          "output_type": "stream",
          "name": "stdout",
          "text": [
            "Num GPUs Available:  1\n"
          ]
        }
      ]
    },
    {
      "cell_type": "code",
      "source": [
        "from google.colab import drive\n",
        "drive.mount('/content/drive/')"
      ],
      "metadata": {
        "id": "BBYJ5r1psly0",
        "colab": {
          "base_uri": "https://localhost:8080/"
        },
        "outputId": "9b215e4f-d35e-4e4c-b151-d20d29af7160"
      },
      "execution_count": null,
      "outputs": [
        {
          "output_type": "stream",
          "name": "stdout",
          "text": [
            "Mounted at /content/drive/\n"
          ]
        }
      ]
    },
    {
      "cell_type": "code",
      "source": [
        "# data loading\n",
        "dataset = 'IP'\n",
        "test_ratio = 0.80\n",
        "windowSize = 16"
      ],
      "metadata": {
        "id": "14KilcFvsmlc"
      },
      "execution_count": null,
      "outputs": []
    },
    {
      "cell_type": "code",
      "source": [
        "def loadData(name):\n",
        "    data_path = os.path.join(os.getcwd(),'data')\n",
        "    if name == 'IP':\n",
        "        data = sio.loadmat(os.path.join('/content/drive/MyDrive/indianpines/Indian_pines_corrected.mat'))['indian_pines_corrected']\n",
        "        labels = sio.loadmat(os.path.join('/content/drive/MyDrive/indianpines/Indian_pines_gt.mat'))['indian_pines_gt']\n",
        "\n",
        "    elif name == 'SA':\n",
        "        data = sio.loadmat(os.path.join('/content/drive/MyDrive/indianpines/Salinas_corrected.mat'))['salinas_corrected']\n",
        "        labels = sio.loadmat(os.path.join('/content/drive/MyDrive/indianpines/Salinas_gt.mat'))['salinas_gt']\n",
        "\n",
        "    elif name == 'PU':\n",
        "        data = sio.loadmat(os.path.join('/content/drive/MyDrive/indianpines/PaviaU.mat'))['paviaU']\n",
        "        labels = sio.loadmat(os.path.join('/content/drive/MyDrive/indianpines/PaviaU_gt.mat'))['paviaU_gt']\n",
        "    data.shape,labels.shape\n",
        "    print(data.shape,labels.shape)\n",
        "    return data, labels\n",
        "    print(shape, labels)"
      ],
      "metadata": {
        "id": "Mo-vyBQUsqcc"
      },
      "execution_count": null,
      "outputs": []
    },
    {
      "cell_type": "code",
      "source": [
        "# splitting the dataset into train and test\n",
        "def splitTrainTestSet(X, y, testRatio, randomState=345):\n",
        "    X_train, X_test, y_train, y_test = train_test_split(X, y, test_size=testRatio, random_state=randomState,\n",
        "                                                        stratify=y)\n",
        "    return X_train, X_test, y_train, y_test\n",
        "    X.shape, y.shape"
      ],
      "metadata": {
        "id": "y-0QLuc7tMpk"
      },
      "execution_count": null,
      "outputs": []
    },
    {
      "cell_type": "code",
      "source": [
        "def applyPCA(X, numComponents=75):\n",
        "    newX = np.reshape(X, (-1, X.shape[2]))\n",
        "    print(newX.shape)\n",
        "    pca = PCA(n_components=numComponents, whiten=True)\n",
        "    newX = pca.fit_transform(newX)\n",
        "    newX = np.reshape(newX, (X.shape[0], X.shape[1], numComponents))\n",
        "    return newX, pca"
      ],
      "metadata": {
        "id": "Jzjej6tztRD-"
      },
      "execution_count": null,
      "outputs": []
    },
    {
      "cell_type": "code",
      "source": [
        "def padWithZeros(X, margin=2):\n",
        "    newX = np.zeros((X.shape[0] + 2 * margin, X.shape[1] + 2* margin, X.shape[2]))\n",
        "    x_offset = margin\n",
        "    y_offset = margin\n",
        "    newX[x_offset:X.shape[0] + x_offset, y_offset:X.shape[1] + y_offset, :] = X\n",
        "    return newX"
      ],
      "metadata": {
        "id": "lNssAnV_sy_k"
      },
      "execution_count": null,
      "outputs": []
    },
    {
      "cell_type": "code",
      "source": [
        "def createImageCubes(X, y, windowSize=8, removeZeroLabels = True):\n",
        "    margin = int((windowSize) / 2)\n",
        "    zeroPaddedX = padWithZeros(X, margin=margin)\n",
        "    # split patches\n",
        "    patchesData = np.zeros((X.shape[0] * X.shape[1], windowSize, windowSize, X.shape[2]))\n",
        "    patchesLabels = np.zeros((X.shape[0] * X.shape[1]))\n",
        "    patchIndex = 0\n",
        "    for r in range(margin, zeroPaddedX.shape[0] - margin):\n",
        "        for c in range(margin, zeroPaddedX.shape[1] - margin):\n",
        "            patch = zeroPaddedX[r - margin:r + margin , c - margin:c + margin ]\n",
        "            patchesData[patchIndex, :, :, :] = patch\n",
        "            patchesLabels[patchIndex] = y[r-margin, c-margin]\n",
        "            patchIndex = patchIndex + 1\n",
        "    if removeZeroLabels:\n",
        "        patchesData = patchesData[patchesLabels>0,:,:,:]\n",
        "        patchesLabels = patchesLabels[patchesLabels>0]\n",
        "        patchesLabels -= 1\n",
        "    return patchesData, patchesLabels"
      ],
      "metadata": {
        "id": "bVQlyS_2sz6k"
      },
      "execution_count": null,
      "outputs": []
    },
    {
      "cell_type": "code",
      "source": [
        "X, y = loadData(dataset)\n",
        "\n",
        "X.shape, y.shape"
      ],
      "metadata": {
        "colab": {
          "base_uri": "https://localhost:8080/"
        },
        "id": "qbhTViMks3q9",
        "outputId": "b6d948cc-4f53-49b9-dab8-9cce1a54e715"
      },
      "execution_count": null,
      "outputs": [
        {
          "output_type": "stream",
          "name": "stdout",
          "text": [
            "(512, 217, 204) (512, 217)\n"
          ]
        },
        {
          "output_type": "execute_result",
          "data": {
            "text/plain": [
              "((512, 217, 204), (512, 217))"
            ]
          },
          "metadata": {},
          "execution_count": 11
        }
      ]
    },
    {
      "cell_type": "code",
      "source": [
        "K = X.shape[2]"
      ],
      "metadata": {
        "id": "Qa7-P9NutwKh"
      },
      "execution_count": null,
      "outputs": []
    },
    {
      "cell_type": "code",
      "source": [
        "K = 16 if dataset == 'IP' else 16\n",
        "X,pca = applyPCA(X,numComponents=K)\n",
        "X.shape"
      ],
      "metadata": {
        "colab": {
          "base_uri": "https://localhost:8080/"
        },
        "id": "zZVDNUvQswBt",
        "outputId": "96aa95bd-d44e-4bf2-8d3c-bfc07195a1f8"
      },
      "execution_count": null,
      "outputs": [
        {
          "output_type": "stream",
          "name": "stdout",
          "text": [
            "(111104, 204)\n"
          ]
        },
        {
          "output_type": "execute_result",
          "data": {
            "text/plain": [
              "(512, 217, 16)"
            ]
          },
          "metadata": {},
          "execution_count": 13
        }
      ]
    },
    {
      "cell_type": "code",
      "source": [
        "X, y = createImageCubes(X, y, windowSize=windowSize)\n",
        "X.shape, y.shape"
      ],
      "metadata": {
        "colab": {
          "base_uri": "https://localhost:8080/"
        },
        "id": "Sh_dxtoBsxN1",
        "outputId": "56388ffe-b85d-418b-fb00-1af7b1b81213"
      },
      "execution_count": null,
      "outputs": [
        {
          "output_type": "execute_result",
          "data": {
            "text/plain": [
              "((54129, 16, 16, 16), (54129,))"
            ]
          },
          "metadata": {},
          "execution_count": 14
        }
      ]
    },
    {
      "cell_type": "markdown",
      "source": [
        "\n",
        "\n",
        "---\n",
        "\n",
        "\n",
        "\n",
        "---\n",
        "\n"
      ],
      "metadata": {
        "id": "VMo2ySKb3xtN"
      }
    },
    {
      "cell_type": "code",
      "source": [
        "Xtrain, Xtest, ytrain, ytest = splitTrainTestSet(X, y, test_ratio)\n",
        "Xtrain.shape, Xtest.shape, ytrain.shape, ytest.shape"
      ],
      "metadata": {
        "colab": {
          "base_uri": "https://localhost:8080/"
        },
        "id": "_PTy285kssJN",
        "outputId": "2dffb065-1be3-4462-acb6-16a304e151b5"
      },
      "execution_count": null,
      "outputs": [
        {
          "output_type": "execute_result",
          "data": {
            "text/plain": [
              "((10825, 16, 16, 16), (43304, 16, 16, 16), (10825,), (43304,))"
            ]
          },
          "metadata": {},
          "execution_count": 15
        }
      ]
    },
    {
      "cell_type": "code",
      "source": [
        "Xtest = Xtest.reshape(-1, windowSize, windowSize, K, 1)\n",
        "Xtest.shape"
      ],
      "metadata": {
        "colab": {
          "base_uri": "https://localhost:8080/"
        },
        "id": "T3Y-5i6X2S4J",
        "outputId": "33a23fad-9310-46c0-99b8-6c182be027d7"
      },
      "execution_count": null,
      "outputs": [
        {
          "output_type": "execute_result",
          "data": {
            "text/plain": [
              "(43304, 16, 16, 16, 1)"
            ]
          },
          "metadata": {},
          "execution_count": 16
        }
      ]
    },
    {
      "cell_type": "code",
      "source": [
        "Xtest_branch1 = Xtest  # Replace this with the actual data for branch 1\n",
        "Xtest_branch2 = Xtest  # Replace this with the actual data for branch 2\n",
        "Xtest_branch3 = Xtest  # Replace this with the actual data for branch 3\n",
        "\n",
        "ytest_branch = ytest  # Replace this with the actual data for branch 1"
      ],
      "metadata": {
        "id": "wYCpnZJSAVc1"
      },
      "execution_count": null,
      "outputs": []
    },
    {
      "cell_type": "markdown",
      "source": [
        "\n",
        "\n",
        "---\n",
        "\n"
      ],
      "metadata": {
        "id": "bMdTCIE83zzQ"
      }
    },
    {
      "cell_type": "code",
      "source": [
        "Xtrain, Xvalid, ytrain, yvalid = splitTrainTestSet(Xtrain, ytrain, 0.3333)\n",
        "Xtrain.shape, Xvalid.shape, ytrain.shape, yvalid.shape"
      ],
      "metadata": {
        "colab": {
          "base_uri": "https://localhost:8080/"
        },
        "id": "_5yZywEYt7za",
        "outputId": "cf1bf7d5-2244-42d9-db4e-4d0a94a937c7"
      },
      "execution_count": null,
      "outputs": [
        {
          "output_type": "execute_result",
          "data": {
            "text/plain": [
              "((7217, 16, 16, 16), (3608, 16, 16, 16), (7217,), (3608,))"
            ]
          },
          "metadata": {},
          "execution_count": 18
        }
      ]
    },
    {
      "cell_type": "code",
      "source": [
        "Xtrain = Xtrain.reshape(-1, windowSize, windowSize, K, 1)\n",
        "Xtrain.shape"
      ],
      "metadata": {
        "colab": {
          "base_uri": "https://localhost:8080/"
        },
        "id": "4zigIDMQuETj",
        "outputId": "63c11024-9aea-42bf-f81e-ea03ba5dbc37"
      },
      "execution_count": null,
      "outputs": [
        {
          "output_type": "execute_result",
          "data": {
            "text/plain": [
              "(7217, 16, 16, 16, 1)"
            ]
          },
          "metadata": {},
          "execution_count": 19
        }
      ]
    },
    {
      "cell_type": "code",
      "source": [
        "# Splitting the input data into three separate branches\n",
        "Xtrain_branch1 = Xtrain  # Replace this with the actual data for branch 1\n",
        "Xtrain_branch2 = Xtrain  # Replace this with the actual data for branch 2\n",
        "Xtrain_branch3 = Xtrain  # Replace this with the actual data for branch 3\n",
        "\n",
        "Xvalid_branch1 = Xvalid  # Replace this with the actual data for branch 1\n",
        "Xvalid_branch2 = Xvalid  # Replace this with the actual data for branch 2\n",
        "Xvalid_branch3 = Xvalid  # Replace this with the actual data for branch 3\n",
        "\n",
        "# Assuming ytrain and yvalid are your output data\n",
        "ytrain_output = ytrain  # Replace this with the actual data for output\n",
        "yvalid_output = yvalid  # Replace this with the actual data for output"
      ],
      "metadata": {
        "id": "F6KvA9f7uBC_"
      },
      "execution_count": null,
      "outputs": []
    },
    {
      "cell_type": "markdown",
      "source": [
        "\n",
        "\n",
        "---\n",
        "\n"
      ],
      "metadata": {
        "id": "ZUsy0vVg4MQb"
      }
    },
    {
      "cell_type": "code",
      "source": [
        "# Assuming ytrain and yvalid are your raw labels (not one-hot encoded)\n",
        "num_classes = 16  # Replace this with the actual number of classes\n",
        "\n",
        "# One-hot encode the labels\n",
        "ytrain_output = to_categorical(ytrain_output, num_classes=num_classes)\n",
        "yvalid_output = to_categorical(yvalid_output, num_classes=num_classes)\n",
        "ytest_branch = to_categorical(ytest_branch, num_classes=num_classes)"
      ],
      "metadata": {
        "id": "iDv3Ih-pwtuG"
      },
      "execution_count": null,
      "outputs": []
    },
    {
      "cell_type": "code",
      "source": [
        "ytrain_output.shape,  yvalid_output.shape,  ytest_branch.shape"
      ],
      "metadata": {
        "colab": {
          "base_uri": "https://localhost:8080/"
        },
        "id": "uEdXdhTG0cZ9",
        "outputId": "9fce42b9-c44b-432a-a09b-75b644fa30f1"
      },
      "execution_count": null,
      "outputs": [
        {
          "output_type": "execute_result",
          "data": {
            "text/plain": [
              "((7217, 16), (3608, 16), (43304, 16))"
            ]
          },
          "metadata": {},
          "execution_count": 22
        }
      ]
    },
    {
      "cell_type": "markdown",
      "source": [
        "\n",
        "\n",
        "---\n",
        "\n",
        "\n",
        "\n",
        "---\n",
        "\n"
      ],
      "metadata": {
        "id": "Bk1WuwEm4OhX"
      }
    },
    {
      "cell_type": "code",
      "source": [
        "S = windowSize\n",
        "L = K\n",
        "input_size =(S,S,L,1)\n",
        "inputs = Input(input_size)\n",
        "output_units = 9 if (dataset == 'PU' or dataset == 'PC') else 16"
      ],
      "metadata": {
        "id": "GDy-3NS_uNOt"
      },
      "execution_count": null,
      "outputs": []
    },
    {
      "cell_type": "code",
      "source": [
        "def unet(inputs):\n",
        "    conv1 = Conv3D(64, kernel_size=(3, 3, 3), kernel_regularizer=regularizers.L2(0.001), activation='relu', padding='same', kernel_initializer='he_normal', use_bias=False)(inputs)\n",
        "    conv1 = Conv3D(64, kernel_size=(3, 3, 3), activation='relu', padding='same', kernel_initializer='he_normal', use_bias=False)(conv1)\n",
        "    conv1 = BatchNormalization()(conv1)\n",
        "    conv1 = MaxPooling3D(pool_size=(2, 2, 2))(conv1)\n",
        "\n",
        "    conv2 = Conv3D(128, kernel_size=(3, 3, 3), kernel_regularizer=regularizers.L2(0.001), activation='relu', padding='same', kernel_initializer='he_normal', use_bias=False)(conv1)\n",
        "    conv2 = Conv3D(128, kernel_size=(3, 3, 3), activation='relu', padding='same', kernel_initializer='he_normal', use_bias=False)(conv2)\n",
        "    conv2 = BatchNormalization()(conv2)\n",
        "    conv2 = MaxPooling3D(pool_size=(2, 2, 2))(conv2)\n",
        "\n",
        "    conv3 = Conv3D(256, kernel_size=(3, 3, 3), activation='relu', padding='same', kernel_initializer='he_normal', use_bias=False)(conv2)\n",
        "    conv3 = Conv3D(256, kernel_size=(3, 3, 3), kernel_regularizer=regularizers.L2(0.001), activation='relu', padding='same', kernel_initializer='he_normal', use_bias=False)(conv3)\n",
        "    conv3 = BatchNormalization()(conv3)\n",
        "    conv3 = MaxPooling3D(pool_size=(2, 2, 2))(conv3)\n",
        "\n",
        "    conv4 = Conv3D(512, kernel_size=(3, 3, 3), activation='relu', padding='same', kernel_initializer='he_normal', use_bias=False)(conv3)\n",
        "    conv4 = Conv3D(512, kernel_size=(3, 3, 3), kernel_regularizer=regularizers.L2(0.001), activation='relu', padding='same', kernel_initializer='he_normal', use_bias=False)(conv4)\n",
        "    conv4 = BatchNormalization()(conv4)\n",
        "    conv4 = MaxPooling3D(pool_size=(2, 2, 2))(conv4)\n",
        "\n",
        "    up6 = Conv3D(256, (3, 3, 3), kernel_regularizer=regularizers.L2(0.001), activation='relu', padding='same', kernel_initializer='he_normal')(UpSampling3D(size=(2, 2, 2))(conv4))\n",
        "    merge6 = concatenate([conv3, up6], axis=4)\n",
        "    conv6 = BatchNormalization()(merge6)\n",
        "    conv6 = Conv3D(256, (3, 3, 3), activation='relu', padding='same', kernel_initializer='he_normal')(conv6)\n",
        "    conv6 = Conv3D(256, (3, 3, 3), activation='relu', padding='same', kernel_initializer='he_normal')(conv6)\n",
        "\n",
        "    up7 = Conv3D(128, (3, 3, 3), kernel_regularizer=regularizers.L2(0.001), activation='relu', padding='same', kernel_initializer='he_normal')(UpSampling3D(size=(2, 2, 2))(conv6))\n",
        "    merge7 = concatenate([conv2, up7], axis=4)\n",
        "    conv7 = BatchNormalization()(merge7)\n",
        "    conv7 = Conv3D(128, (3, 3, 3), activation='relu', padding='same', kernel_initializer='he_normal')(conv7)\n",
        "    conv7 = Conv3D(128, (3, 3, 3), activation='relu', padding='same', kernel_initializer='he_normal')(conv7)\n",
        "\n",
        "    up8 = Conv3D(64, (3, 3, 3), kernel_regularizer=regularizers.L2(0.001), activation='relu', padding='same', kernel_initializer='he_normal')(UpSampling3D(size=(2, 2, 2))(conv7))\n",
        "    merge8 = concatenate([conv1, up8], axis=4)\n",
        "    conv8 = BatchNormalization()(merge8)\n",
        "    conv8 = Conv3D(64, (3, 3, 3), kernel_regularizer=regularizers.L2(0.001), activation='relu', padding='same', kernel_initializer='he_normal')(conv8)\n",
        "    conv8 = Conv3D(64, (3, 3, 3), activation='relu', padding='same', kernel_initializer='he_normal')(conv8)\n",
        "\n",
        "    return conv8\n",
        "\n",
        "def create_multibranch_unet(input_shape=(16, 16, 16, 1), output_units=16):\n",
        "    input1 = Input(input_shape)\n",
        "    input2 = Input(input_shape)\n",
        "    input3 = Input(input_shape)\n",
        "\n",
        "    # Individual U-Net branches\n",
        "    branch1_output = unet(input1)\n",
        "    branch2_output = unet(input2)\n",
        "    branch3_output = unet(input3)\n",
        "\n",
        "    # Concatenation of branch outputs\n",
        "    merged_output = concatenate([branch1_output, branch2_output, branch3_output], axis=-1)\n",
        "\n",
        "    # Classification layers\n",
        "    flatten_layer = Flatten()(merged_output)\n",
        "    dense_layer1 = Dense(units=256, activation='relu')(flatten_layer)\n",
        "    dense_layer1 = Dropout(0.4)(dense_layer1)\n",
        "    dense_layer2 = Dense(units=128, activation='relu')(dense_layer1)\n",
        "    dense_layer2 = Dropout(0.4)(dense_layer2)\n",
        "    output_layer = Dense(units=output_units, activation='softmax')(dense_layer2)\n",
        "\n",
        "    # Model\n",
        "    model = Model(inputs=[input1, input2, input3], outputs=output_layer)\n",
        "    adam = Adam(learning_rate=0.001)  # You can adjust the learning rate as needed\n",
        "    model.compile(loss='categorical_crossentropy', optimizer=adam, metrics=['accuracy'])\n",
        "    model.summary()\n",
        "\n",
        "    return model\n"
      ],
      "metadata": {
        "id": "4E-5D61lsfsU"
      },
      "execution_count": null,
      "outputs": []
    },
    {
      "cell_type": "code",
      "source": [
        "model = create_multibranch_unet(input_shape=(16, 16, 16, 1), output_units=16)"
      ],
      "metadata": {
        "colab": {
          "base_uri": "https://localhost:8080/"
        },
        "id": "0S2MTBLCAMwr",
        "outputId": "6c1a8e4f-8bb8-4d0e-89c3-ff778f73a65f"
      },
      "execution_count": null,
      "outputs": [
        {
          "output_type": "stream",
          "name": "stdout",
          "text": [
            "Model: \"model\"\n",
            "__________________________________________________________________________________________________\n",
            " Layer (type)                Output Shape                 Param #   Connected to                  \n",
            "==================================================================================================\n",
            " input_2 (InputLayer)        [(None, 16, 16, 16, 1)]      0         []                            \n",
            "                                                                                                  \n",
            " input_3 (InputLayer)        [(None, 16, 16, 16, 1)]      0         []                            \n",
            "                                                                                                  \n",
            " input_4 (InputLayer)        [(None, 16, 16, 16, 1)]      0         []                            \n",
            "                                                                                                  \n",
            " conv3d (Conv3D)             (None, 16, 16, 16, 64)       1728      ['input_2[0][0]']             \n",
            "                                                                                                  \n",
            " conv3d_17 (Conv3D)          (None, 16, 16, 16, 64)       1728      ['input_3[0][0]']             \n",
            "                                                                                                  \n",
            " conv3d_34 (Conv3D)          (None, 16, 16, 16, 64)       1728      ['input_4[0][0]']             \n",
            "                                                                                                  \n",
            " conv3d_1 (Conv3D)           (None, 16, 16, 16, 64)       110592    ['conv3d[0][0]']              \n",
            "                                                                                                  \n",
            " conv3d_18 (Conv3D)          (None, 16, 16, 16, 64)       110592    ['conv3d_17[0][0]']           \n",
            "                                                                                                  \n",
            " conv3d_35 (Conv3D)          (None, 16, 16, 16, 64)       110592    ['conv3d_34[0][0]']           \n",
            "                                                                                                  \n",
            " batch_normalization (Batch  (None, 16, 16, 16, 64)       256       ['conv3d_1[0][0]']            \n",
            " Normalization)                                                                                   \n",
            "                                                                                                  \n",
            " batch_normalization_7 (Bat  (None, 16, 16, 16, 64)       256       ['conv3d_18[0][0]']           \n",
            " chNormalization)                                                                                 \n",
            "                                                                                                  \n",
            " batch_normalization_14 (Ba  (None, 16, 16, 16, 64)       256       ['conv3d_35[0][0]']           \n",
            " tchNormalization)                                                                                \n",
            "                                                                                                  \n",
            " max_pooling3d (MaxPooling3  (None, 8, 8, 8, 64)          0         ['batch_normalization[0][0]'] \n",
            " D)                                                                                               \n",
            "                                                                                                  \n",
            " max_pooling3d_4 (MaxPoolin  (None, 8, 8, 8, 64)          0         ['batch_normalization_7[0][0]'\n",
            " g3D)                                                               ]                             \n",
            "                                                                                                  \n",
            " max_pooling3d_8 (MaxPoolin  (None, 8, 8, 8, 64)          0         ['batch_normalization_14[0][0]\n",
            " g3D)                                                               ']                            \n",
            "                                                                                                  \n",
            " conv3d_2 (Conv3D)           (None, 8, 8, 8, 128)         221184    ['max_pooling3d[0][0]']       \n",
            "                                                                                                  \n",
            " conv3d_19 (Conv3D)          (None, 8, 8, 8, 128)         221184    ['max_pooling3d_4[0][0]']     \n",
            "                                                                                                  \n",
            " conv3d_36 (Conv3D)          (None, 8, 8, 8, 128)         221184    ['max_pooling3d_8[0][0]']     \n",
            "                                                                                                  \n",
            " conv3d_3 (Conv3D)           (None, 8, 8, 8, 128)         442368    ['conv3d_2[0][0]']            \n",
            "                                                                                                  \n",
            " conv3d_20 (Conv3D)          (None, 8, 8, 8, 128)         442368    ['conv3d_19[0][0]']           \n",
            "                                                                                                  \n",
            " conv3d_37 (Conv3D)          (None, 8, 8, 8, 128)         442368    ['conv3d_36[0][0]']           \n",
            "                                                                                                  \n",
            " batch_normalization_1 (Bat  (None, 8, 8, 8, 128)         512       ['conv3d_3[0][0]']            \n",
            " chNormalization)                                                                                 \n",
            "                                                                                                  \n",
            " batch_normalization_8 (Bat  (None, 8, 8, 8, 128)         512       ['conv3d_20[0][0]']           \n",
            " chNormalization)                                                                                 \n",
            "                                                                                                  \n",
            " batch_normalization_15 (Ba  (None, 8, 8, 8, 128)         512       ['conv3d_37[0][0]']           \n",
            " tchNormalization)                                                                                \n",
            "                                                                                                  \n",
            " max_pooling3d_1 (MaxPoolin  (None, 4, 4, 4, 128)         0         ['batch_normalization_1[0][0]'\n",
            " g3D)                                                               ]                             \n",
            "                                                                                                  \n",
            " max_pooling3d_5 (MaxPoolin  (None, 4, 4, 4, 128)         0         ['batch_normalization_8[0][0]'\n",
            " g3D)                                                               ]                             \n",
            "                                                                                                  \n",
            " max_pooling3d_9 (MaxPoolin  (None, 4, 4, 4, 128)         0         ['batch_normalization_15[0][0]\n",
            " g3D)                                                               ']                            \n",
            "                                                                                                  \n",
            " conv3d_4 (Conv3D)           (None, 4, 4, 4, 256)         884736    ['max_pooling3d_1[0][0]']     \n",
            "                                                                                                  \n",
            " conv3d_21 (Conv3D)          (None, 4, 4, 4, 256)         884736    ['max_pooling3d_5[0][0]']     \n",
            "                                                                                                  \n",
            " conv3d_38 (Conv3D)          (None, 4, 4, 4, 256)         884736    ['max_pooling3d_9[0][0]']     \n",
            "                                                                                                  \n",
            " conv3d_5 (Conv3D)           (None, 4, 4, 4, 256)         1769472   ['conv3d_4[0][0]']            \n",
            "                                                                                                  \n",
            " conv3d_22 (Conv3D)          (None, 4, 4, 4, 256)         1769472   ['conv3d_21[0][0]']           \n",
            "                                                                                                  \n",
            " conv3d_39 (Conv3D)          (None, 4, 4, 4, 256)         1769472   ['conv3d_38[0][0]']           \n",
            "                                                                                                  \n",
            " batch_normalization_2 (Bat  (None, 4, 4, 4, 256)         1024      ['conv3d_5[0][0]']            \n",
            " chNormalization)                                                                                 \n",
            "                                                                                                  \n",
            " batch_normalization_9 (Bat  (None, 4, 4, 4, 256)         1024      ['conv3d_22[0][0]']           \n",
            " chNormalization)                                                                                 \n",
            "                                                                                                  \n",
            " batch_normalization_16 (Ba  (None, 4, 4, 4, 256)         1024      ['conv3d_39[0][0]']           \n",
            " tchNormalization)                                                                                \n",
            "                                                                                                  \n",
            " max_pooling3d_2 (MaxPoolin  (None, 2, 2, 2, 256)         0         ['batch_normalization_2[0][0]'\n",
            " g3D)                                                               ]                             \n",
            "                                                                                                  \n",
            " max_pooling3d_6 (MaxPoolin  (None, 2, 2, 2, 256)         0         ['batch_normalization_9[0][0]'\n",
            " g3D)                                                               ]                             \n",
            "                                                                                                  \n",
            " max_pooling3d_10 (MaxPooli  (None, 2, 2, 2, 256)         0         ['batch_normalization_16[0][0]\n",
            " ng3D)                                                              ']                            \n",
            "                                                                                                  \n",
            " conv3d_6 (Conv3D)           (None, 2, 2, 2, 512)         3538944   ['max_pooling3d_2[0][0]']     \n",
            "                                                                                                  \n",
            " conv3d_23 (Conv3D)          (None, 2, 2, 2, 512)         3538944   ['max_pooling3d_6[0][0]']     \n",
            "                                                                                                  \n",
            " conv3d_40 (Conv3D)          (None, 2, 2, 2, 512)         3538944   ['max_pooling3d_10[0][0]']    \n",
            "                                                                                                  \n",
            " conv3d_7 (Conv3D)           (None, 2, 2, 2, 512)         7077888   ['conv3d_6[0][0]']            \n",
            "                                                                                                  \n",
            " conv3d_24 (Conv3D)          (None, 2, 2, 2, 512)         7077888   ['conv3d_23[0][0]']           \n",
            "                                                                                                  \n",
            " conv3d_41 (Conv3D)          (None, 2, 2, 2, 512)         7077888   ['conv3d_40[0][0]']           \n",
            "                                                                                                  \n",
            " batch_normalization_3 (Bat  (None, 2, 2, 2, 512)         2048      ['conv3d_7[0][0]']            \n",
            " chNormalization)                                                                                 \n",
            "                                                                                                  \n",
            " batch_normalization_10 (Ba  (None, 2, 2, 2, 512)         2048      ['conv3d_24[0][0]']           \n",
            " tchNormalization)                                                                                \n",
            "                                                                                                  \n",
            " batch_normalization_17 (Ba  (None, 2, 2, 2, 512)         2048      ['conv3d_41[0][0]']           \n",
            " tchNormalization)                                                                                \n",
            "                                                                                                  \n",
            " max_pooling3d_3 (MaxPoolin  (None, 1, 1, 1, 512)         0         ['batch_normalization_3[0][0]'\n",
            " g3D)                                                               ]                             \n",
            "                                                                                                  \n",
            " max_pooling3d_7 (MaxPoolin  (None, 1, 1, 1, 512)         0         ['batch_normalization_10[0][0]\n",
            " g3D)                                                               ']                            \n",
            "                                                                                                  \n",
            " max_pooling3d_11 (MaxPooli  (None, 1, 1, 1, 512)         0         ['batch_normalization_17[0][0]\n",
            " ng3D)                                                              ']                            \n",
            "                                                                                                  \n",
            " up_sampling3d (UpSampling3  (None, 2, 2, 2, 512)         0         ['max_pooling3d_3[0][0]']     \n",
            " D)                                                                                               \n",
            "                                                                                                  \n",
            " up_sampling3d_3 (UpSamplin  (None, 2, 2, 2, 512)         0         ['max_pooling3d_7[0][0]']     \n",
            " g3D)                                                                                             \n",
            "                                                                                                  \n",
            " up_sampling3d_6 (UpSamplin  (None, 2, 2, 2, 512)         0         ['max_pooling3d_11[0][0]']    \n",
            " g3D)                                                                                             \n",
            "                                                                                                  \n",
            " conv3d_8 (Conv3D)           (None, 2, 2, 2, 256)         3539200   ['up_sampling3d[0][0]']       \n",
            "                                                                                                  \n",
            " conv3d_25 (Conv3D)          (None, 2, 2, 2, 256)         3539200   ['up_sampling3d_3[0][0]']     \n",
            "                                                                                                  \n",
            " conv3d_42 (Conv3D)          (None, 2, 2, 2, 256)         3539200   ['up_sampling3d_6[0][0]']     \n",
            "                                                                                                  \n",
            " concatenate (Concatenate)   (None, 2, 2, 2, 512)         0         ['max_pooling3d_2[0][0]',     \n",
            "                                                                     'conv3d_8[0][0]']            \n",
            "                                                                                                  \n",
            " concatenate_3 (Concatenate  (None, 2, 2, 2, 512)         0         ['max_pooling3d_6[0][0]',     \n",
            " )                                                                   'conv3d_25[0][0]']           \n",
            "                                                                                                  \n",
            " concatenate_6 (Concatenate  (None, 2, 2, 2, 512)         0         ['max_pooling3d_10[0][0]',    \n",
            " )                                                                   'conv3d_42[0][0]']           \n",
            "                                                                                                  \n",
            " batch_normalization_4 (Bat  (None, 2, 2, 2, 512)         2048      ['concatenate[0][0]']         \n",
            " chNormalization)                                                                                 \n",
            "                                                                                                  \n",
            " batch_normalization_11 (Ba  (None, 2, 2, 2, 512)         2048      ['concatenate_3[0][0]']       \n",
            " tchNormalization)                                                                                \n",
            "                                                                                                  \n",
            " batch_normalization_18 (Ba  (None, 2, 2, 2, 512)         2048      ['concatenate_6[0][0]']       \n",
            " tchNormalization)                                                                                \n",
            "                                                                                                  \n",
            " conv3d_9 (Conv3D)           (None, 2, 2, 2, 256)         3539200   ['batch_normalization_4[0][0]'\n",
            "                                                                    ]                             \n",
            "                                                                                                  \n",
            " conv3d_26 (Conv3D)          (None, 2, 2, 2, 256)         3539200   ['batch_normalization_11[0][0]\n",
            "                                                                    ']                            \n",
            "                                                                                                  \n",
            " conv3d_43 (Conv3D)          (None, 2, 2, 2, 256)         3539200   ['batch_normalization_18[0][0]\n",
            "                                                                    ']                            \n",
            "                                                                                                  \n",
            " conv3d_10 (Conv3D)          (None, 2, 2, 2, 256)         1769728   ['conv3d_9[0][0]']            \n",
            "                                                                                                  \n",
            " conv3d_27 (Conv3D)          (None, 2, 2, 2, 256)         1769728   ['conv3d_26[0][0]']           \n",
            "                                                                                                  \n",
            " conv3d_44 (Conv3D)          (None, 2, 2, 2, 256)         1769728   ['conv3d_43[0][0]']           \n",
            "                                                                                                  \n",
            " up_sampling3d_1 (UpSamplin  (None, 4, 4, 4, 256)         0         ['conv3d_10[0][0]']           \n",
            " g3D)                                                                                             \n",
            "                                                                                                  \n",
            " up_sampling3d_4 (UpSamplin  (None, 4, 4, 4, 256)         0         ['conv3d_27[0][0]']           \n",
            " g3D)                                                                                             \n",
            "                                                                                                  \n",
            " up_sampling3d_7 (UpSamplin  (None, 4, 4, 4, 256)         0         ['conv3d_44[0][0]']           \n",
            " g3D)                                                                                             \n",
            "                                                                                                  \n",
            " conv3d_11 (Conv3D)          (None, 4, 4, 4, 128)         884864    ['up_sampling3d_1[0][0]']     \n",
            "                                                                                                  \n",
            " conv3d_28 (Conv3D)          (None, 4, 4, 4, 128)         884864    ['up_sampling3d_4[0][0]']     \n",
            "                                                                                                  \n",
            " conv3d_45 (Conv3D)          (None, 4, 4, 4, 128)         884864    ['up_sampling3d_7[0][0]']     \n",
            "                                                                                                  \n",
            " concatenate_1 (Concatenate  (None, 4, 4, 4, 256)         0         ['max_pooling3d_1[0][0]',     \n",
            " )                                                                   'conv3d_11[0][0]']           \n",
            "                                                                                                  \n",
            " concatenate_4 (Concatenate  (None, 4, 4, 4, 256)         0         ['max_pooling3d_5[0][0]',     \n",
            " )                                                                   'conv3d_28[0][0]']           \n",
            "                                                                                                  \n",
            " concatenate_7 (Concatenate  (None, 4, 4, 4, 256)         0         ['max_pooling3d_9[0][0]',     \n",
            " )                                                                   'conv3d_45[0][0]']           \n",
            "                                                                                                  \n",
            " batch_normalization_5 (Bat  (None, 4, 4, 4, 256)         1024      ['concatenate_1[0][0]']       \n",
            " chNormalization)                                                                                 \n",
            "                                                                                                  \n",
            " batch_normalization_12 (Ba  (None, 4, 4, 4, 256)         1024      ['concatenate_4[0][0]']       \n",
            " tchNormalization)                                                                                \n",
            "                                                                                                  \n",
            " batch_normalization_19 (Ba  (None, 4, 4, 4, 256)         1024      ['concatenate_7[0][0]']       \n",
            " tchNormalization)                                                                                \n",
            "                                                                                                  \n",
            " conv3d_12 (Conv3D)          (None, 4, 4, 4, 128)         884864    ['batch_normalization_5[0][0]'\n",
            "                                                                    ]                             \n",
            "                                                                                                  \n",
            " conv3d_29 (Conv3D)          (None, 4, 4, 4, 128)         884864    ['batch_normalization_12[0][0]\n",
            "                                                                    ']                            \n",
            "                                                                                                  \n",
            " conv3d_46 (Conv3D)          (None, 4, 4, 4, 128)         884864    ['batch_normalization_19[0][0]\n",
            "                                                                    ']                            \n",
            "                                                                                                  \n",
            " conv3d_13 (Conv3D)          (None, 4, 4, 4, 128)         442496    ['conv3d_12[0][0]']           \n",
            "                                                                                                  \n",
            " conv3d_30 (Conv3D)          (None, 4, 4, 4, 128)         442496    ['conv3d_29[0][0]']           \n",
            "                                                                                                  \n",
            " conv3d_47 (Conv3D)          (None, 4, 4, 4, 128)         442496    ['conv3d_46[0][0]']           \n",
            "                                                                                                  \n",
            " up_sampling3d_2 (UpSamplin  (None, 8, 8, 8, 128)         0         ['conv3d_13[0][0]']           \n",
            " g3D)                                                                                             \n",
            "                                                                                                  \n",
            " up_sampling3d_5 (UpSamplin  (None, 8, 8, 8, 128)         0         ['conv3d_30[0][0]']           \n",
            " g3D)                                                                                             \n",
            "                                                                                                  \n",
            " up_sampling3d_8 (UpSamplin  (None, 8, 8, 8, 128)         0         ['conv3d_47[0][0]']           \n",
            " g3D)                                                                                             \n",
            "                                                                                                  \n",
            " conv3d_14 (Conv3D)          (None, 8, 8, 8, 64)          221248    ['up_sampling3d_2[0][0]']     \n",
            "                                                                                                  \n",
            " conv3d_31 (Conv3D)          (None, 8, 8, 8, 64)          221248    ['up_sampling3d_5[0][0]']     \n",
            "                                                                                                  \n",
            " conv3d_48 (Conv3D)          (None, 8, 8, 8, 64)          221248    ['up_sampling3d_8[0][0]']     \n",
            "                                                                                                  \n",
            " concatenate_2 (Concatenate  (None, 8, 8, 8, 128)         0         ['max_pooling3d[0][0]',       \n",
            " )                                                                   'conv3d_14[0][0]']           \n",
            "                                                                                                  \n",
            " concatenate_5 (Concatenate  (None, 8, 8, 8, 128)         0         ['max_pooling3d_4[0][0]',     \n",
            " )                                                                   'conv3d_31[0][0]']           \n",
            "                                                                                                  \n",
            " concatenate_8 (Concatenate  (None, 8, 8, 8, 128)         0         ['max_pooling3d_8[0][0]',     \n",
            " )                                                                   'conv3d_48[0][0]']           \n",
            "                                                                                                  \n",
            " batch_normalization_6 (Bat  (None, 8, 8, 8, 128)         512       ['concatenate_2[0][0]']       \n",
            " chNormalization)                                                                                 \n",
            "                                                                                                  \n",
            " batch_normalization_13 (Ba  (None, 8, 8, 8, 128)         512       ['concatenate_5[0][0]']       \n",
            " tchNormalization)                                                                                \n",
            "                                                                                                  \n",
            " batch_normalization_20 (Ba  (None, 8, 8, 8, 128)         512       ['concatenate_8[0][0]']       \n",
            " tchNormalization)                                                                                \n",
            "                                                                                                  \n",
            " conv3d_15 (Conv3D)          (None, 8, 8, 8, 64)          221248    ['batch_normalization_6[0][0]'\n",
            "                                                                    ]                             \n",
            "                                                                                                  \n",
            " conv3d_32 (Conv3D)          (None, 8, 8, 8, 64)          221248    ['batch_normalization_13[0][0]\n",
            "                                                                    ']                            \n",
            "                                                                                                  \n",
            " conv3d_49 (Conv3D)          (None, 8, 8, 8, 64)          221248    ['batch_normalization_20[0][0]\n",
            "                                                                    ']                            \n",
            "                                                                                                  \n",
            " conv3d_16 (Conv3D)          (None, 8, 8, 8, 64)          110656    ['conv3d_15[0][0]']           \n",
            "                                                                                                  \n",
            " conv3d_33 (Conv3D)          (None, 8, 8, 8, 64)          110656    ['conv3d_32[0][0]']           \n",
            "                                                                                                  \n",
            " conv3d_50 (Conv3D)          (None, 8, 8, 8, 64)          110656    ['conv3d_49[0][0]']           \n",
            "                                                                                                  \n",
            " concatenate_9 (Concatenate  (None, 8, 8, 8, 192)         0         ['conv3d_16[0][0]',           \n",
            " )                                                                   'conv3d_33[0][0]',           \n",
            "                                                                     'conv3d_50[0][0]']           \n",
            "                                                                                                  \n",
            " flatten (Flatten)           (None, 98304)                0         ['concatenate_9[0][0]']       \n",
            "                                                                                                  \n",
            " dense (Dense)               (None, 256)                  2516608   ['flatten[0][0]']             \n",
            "                                                          0                                       \n",
            "                                                                                                  \n",
            " dropout (Dropout)           (None, 256)                  0         ['dense[0][0]']               \n",
            "                                                                                                  \n",
            " dense_1 (Dense)             (None, 128)                  32896     ['dropout[0][0]']             \n",
            "                                                                                                  \n",
            " dropout_1 (Dropout)         (None, 128)                  0         ['dense_1[0][0]']             \n",
            "                                                                                                  \n",
            " dense_2 (Dense)             (None, 16)                   2064      ['dropout_1[0][0]']           \n",
            "                                                                                                  \n",
            "==================================================================================================\n",
            "Total params: 102204560 (389.88 MB)\n",
            "Trainable params: 102193424 (389.84 MB)\n",
            "Non-trainable params: 11136 (43.50 KB)\n",
            "__________________________________________________________________________________________________\n"
          ]
        }
      ]
    },
    {
      "cell_type": "code",
      "source": [
        "filepath = \"/content/best-modelsa.hdf5\"\n",
        "checkpoint = ModelCheckpoint(filepath, monitor='acc', verbose=1, save_best_only=False, mode='max')\n",
        "callbacks_list = [checkpoint]\n",
        "print(callbacks_list)"
      ],
      "metadata": {
        "colab": {
          "base_uri": "https://localhost:8080/"
        },
        "id": "Tmv5B7S5BVZr",
        "outputId": "2cccf8b7-c883-494f-d8d1-637750934a17"
      },
      "execution_count": null,
      "outputs": [
        {
          "output_type": "stream",
          "name": "stdout",
          "text": [
            "[<keras.src.callbacks.ModelCheckpoint object at 0x7fb920062770>]\n"
          ]
        }
      ]
    },
    {
      "cell_type": "code",
      "source": [
        "# Training the model with multiple inputs\n",
        "history = model.fit(\n",
        "    x=[Xtrain_branch1, Xtrain_branch2, Xtrain_branch3],\n",
        "    y=ytrain_output,\n",
        "    validation_data=([Xvalid_branch1, Xvalid_branch2, Xvalid_branch3], yvalid_output),\n",
        "    batch_size=128,\n",
        "    epochs=100,\n",
        "    callbacks=callbacks_list\n",
        ")"
      ],
      "metadata": {
        "colab": {
          "base_uri": "https://localhost:8080/"
        },
        "id": "-GEs_HJztfjf",
        "outputId": "fce7a489-abf0-4dcb-bbfb-4809734abbd8"
      },
      "execution_count": null,
      "outputs": [
        {
          "output_type": "stream",
          "name": "stdout",
          "text": [
            "Epoch 1/100\n",
            "57/57 [==============================] - ETA: 0s - loss: 8.8614 - accuracy: 0.6404\n",
            "Epoch 1: saving model to /content/best-modelsa.hdf5\n"
          ]
        },
        {
          "output_type": "stream",
          "name": "stderr",
          "text": [
            "/usr/local/lib/python3.10/dist-packages/keras/src/engine/training.py:3103: UserWarning:\n",
            "\n",
            "You are saving your model as an HDF5 file via `model.save()`. This file format is considered legacy. We recommend using instead the native Keras format, e.g. `model.save('my_model.keras')`.\n",
            "\n"
          ]
        },
        {
          "output_type": "stream",
          "name": "stdout",
          "text": [
            "\b\b\b\b\b\b\b\b\b\b\b\b\b\b\b\b\b\b\b\b\b\b\b\b\b\b\b\b\b\b\b\b\b\b\b\b\b\b\b\b\b\b\b\b\b\b\b\b\b\b\b\b\b\b\b\b\b\b\b\b\b\b\b\b\b\b\b\b\b\b\b\b\b\b\b\b\b\b\b\b\b\b\r57/57 [==============================] - 131s 2s/step - loss: 8.8614 - accuracy: 0.6404 - val_loss: 12.9433 - val_accuracy: 0.2073\n",
            "Epoch 2/100\n",
            "57/57 [==============================] - ETA: 0s - loss: 4.2883 - accuracy: 0.9550\n",
            "Epoch 2: saving model to /content/best-modelsa.hdf5\n",
            "57/57 [==============================] - 95s 2s/step - loss: 4.2883 - accuracy: 0.9550 - val_loss: 3.7637 - val_accuracy: 0.8489\n",
            "Epoch 3/100\n",
            "57/57 [==============================] - ETA: 0s - loss: 2.8193 - accuracy: 0.9741\n",
            "Epoch 3: saving model to /content/best-modelsa.hdf5\n",
            "57/57 [==============================] - 82s 1s/step - loss: 2.8193 - accuracy: 0.9741 - val_loss: 2.3902 - val_accuracy: 0.9670\n",
            "Epoch 4/100\n",
            "57/57 [==============================] - ETA: 0s - loss: 2.0200 - accuracy: 0.9794\n",
            "Epoch 4: saving model to /content/best-modelsa.hdf5\n",
            "57/57 [==============================] - 90s 2s/step - loss: 2.0200 - accuracy: 0.9794 - val_loss: 1.7175 - val_accuracy: 0.9753\n",
            "Epoch 5/100\n",
            "57/57 [==============================] - ETA: 0s - loss: 1.4749 - accuracy: 0.9917\n",
            "Epoch 5: saving model to /content/best-modelsa.hdf5\n",
            "57/57 [==============================] - 91s 2s/step - loss: 1.4749 - accuracy: 0.9917 - val_loss: 1.2541 - val_accuracy: 0.9967\n",
            "Epoch 6/100\n",
            "57/57 [==============================] - ETA: 0s - loss: 1.1772 - accuracy: 0.9867\n",
            "Epoch 6: saving model to /content/best-modelsa.hdf5\n",
            "57/57 [==============================] - 90s 2s/step - loss: 1.1772 - accuracy: 0.9867 - val_loss: 1.0207 - val_accuracy: 0.9933\n",
            "Epoch 7/100\n",
            "57/57 [==============================] - ETA: 0s - loss: 0.9151 - accuracy: 0.9943\n",
            "Epoch 7: saving model to /content/best-modelsa.hdf5\n",
            "57/57 [==============================] - 92s 2s/step - loss: 0.9151 - accuracy: 0.9943 - val_loss: 0.7910 - val_accuracy: 0.9986\n",
            "Epoch 8/100\n",
            "57/57 [==============================] - ETA: 0s - loss: 0.7517 - accuracy: 0.9947\n",
            "Epoch 8: saving model to /content/best-modelsa.hdf5\n",
            "57/57 [==============================] - 91s 2s/step - loss: 0.7517 - accuracy: 0.9947 - val_loss: 0.6616 - val_accuracy: 0.9997\n",
            "Epoch 9/100\n",
            "57/57 [==============================] - ETA: 0s - loss: 0.6241 - accuracy: 0.9956\n",
            "Epoch 9: saving model to /content/best-modelsa.hdf5\n",
            "57/57 [==============================] - 95s 2s/step - loss: 0.6241 - accuracy: 0.9956 - val_loss: 0.5493 - val_accuracy: 0.9994\n",
            "Epoch 10/100\n",
            "57/57 [==============================] - ETA: 0s - loss: 0.5109 - accuracy: 0.9963\n",
            "Epoch 10: saving model to /content/best-modelsa.hdf5\n",
            "57/57 [==============================] - 98s 2s/step - loss: 0.5109 - accuracy: 0.9963 - val_loss: 0.5784 - val_accuracy: 0.9775\n",
            "Epoch 11/100\n",
            "57/57 [==============================] - ETA: 0s - loss: 0.4565 - accuracy: 0.9967\n",
            "Epoch 11: saving model to /content/best-modelsa.hdf5\n",
            "57/57 [==============================] - 92s 2s/step - loss: 0.4565 - accuracy: 0.9967 - val_loss: 0.4525 - val_accuracy: 0.9933\n",
            "Epoch 12/100\n",
            "57/57 [==============================] - ETA: 0s - loss: 0.4018 - accuracy: 0.9967\n",
            "Epoch 12: saving model to /content/best-modelsa.hdf5\n",
            "57/57 [==============================] - 92s 2s/step - loss: 0.4018 - accuracy: 0.9967 - val_loss: 0.3371 - val_accuracy: 0.9992\n",
            "Epoch 13/100\n",
            "57/57 [==============================] - ETA: 0s - loss: 0.3147 - accuracy: 0.9981\n",
            "Epoch 13: saving model to /content/best-modelsa.hdf5\n",
            "57/57 [==============================] - 98s 2s/step - loss: 0.3147 - accuracy: 0.9981 - val_loss: 0.2844 - val_accuracy: 0.9978\n",
            "Epoch 14/100\n",
            "57/57 [==============================] - ETA: 0s - loss: 0.2772 - accuracy: 0.9958\n",
            "Epoch 14: saving model to /content/best-modelsa.hdf5\n",
            "57/57 [==============================] - 95s 2s/step - loss: 0.2772 - accuracy: 0.9958 - val_loss: 0.2433 - val_accuracy: 0.9989\n",
            "Epoch 15/100\n",
            "57/57 [==============================] - ETA: 0s - loss: 0.2455 - accuracy: 0.9968\n",
            "Epoch 15: saving model to /content/best-modelsa.hdf5\n",
            "57/57 [==============================] - 90s 2s/step - loss: 0.2455 - accuracy: 0.9968 - val_loss: 0.2670 - val_accuracy: 0.9867\n",
            "Epoch 16/100\n",
            "57/57 [==============================] - ETA: 0s - loss: 0.2290 - accuracy: 0.9956\n",
            "Epoch 16: saving model to /content/best-modelsa.hdf5\n",
            "57/57 [==============================] - 103s 2s/step - loss: 0.2290 - accuracy: 0.9956 - val_loss: 0.2203 - val_accuracy: 0.9917\n",
            "Epoch 17/100\n",
            "57/57 [==============================] - ETA: 0s - loss: 0.2335 - accuracy: 0.9933\n",
            "Epoch 17: saving model to /content/best-modelsa.hdf5\n",
            "57/57 [==============================] - 93s 2s/step - loss: 0.2335 - accuracy: 0.9933 - val_loss: 0.2098 - val_accuracy: 0.9953\n",
            "Epoch 18/100\n",
            "57/57 [==============================] - ETA: 0s - loss: 0.2692 - accuracy: 0.9868\n",
            "Epoch 18: saving model to /content/best-modelsa.hdf5\n",
            "57/57 [==============================] - 97s 2s/step - loss: 0.2692 - accuracy: 0.9868 - val_loss: 0.2793 - val_accuracy: 0.9806\n",
            "Epoch 19/100\n",
            "57/57 [==============================] - ETA: 0s - loss: 0.2769 - accuracy: 0.9936\n",
            "Epoch 19: saving model to /content/best-modelsa.hdf5\n",
            "57/57 [==============================] - 92s 2s/step - loss: 0.2769 - accuracy: 0.9936 - val_loss: 0.2437 - val_accuracy: 0.9956\n",
            "Epoch 20/100\n",
            "57/57 [==============================] - ETA: 0s - loss: 0.2361 - accuracy: 0.9954\n",
            "Epoch 20: saving model to /content/best-modelsa.hdf5\n",
            "57/57 [==============================] - 89s 2s/step - loss: 0.2361 - accuracy: 0.9954 - val_loss: 0.2045 - val_accuracy: 0.9939\n",
            "Epoch 21/100\n",
            "57/57 [==============================] - ETA: 0s - loss: 0.2884 - accuracy: 0.9928\n",
            "Epoch 21: saving model to /content/best-modelsa.hdf5\n",
            "57/57 [==============================] - 89s 2s/step - loss: 0.2884 - accuracy: 0.9928 - val_loss: 0.2337 - val_accuracy: 0.9989\n",
            "Epoch 22/100\n",
            "57/57 [==============================] - ETA: 0s - loss: 0.2450 - accuracy: 0.9949\n",
            "Epoch 22: saving model to /content/best-modelsa.hdf5\n",
            "57/57 [==============================] - 98s 2s/step - loss: 0.2450 - accuracy: 0.9949 - val_loss: 0.1973 - val_accuracy: 0.9939\n",
            "Epoch 23/100\n",
            "57/57 [==============================] - ETA: 0s - loss: 0.1961 - accuracy: 0.9956\n",
            "Epoch 23: saving model to /content/best-modelsa.hdf5\n",
            "57/57 [==============================] - 90s 2s/step - loss: 0.1961 - accuracy: 0.9956 - val_loss: 0.1537 - val_accuracy: 0.9989\n",
            "Epoch 24/100\n",
            "57/57 [==============================] - ETA: 0s - loss: 0.1613 - accuracy: 0.9963\n",
            "Epoch 24: saving model to /content/best-modelsa.hdf5\n",
            "57/57 [==============================] - 93s 2s/step - loss: 0.1613 - accuracy: 0.9963 - val_loss: 0.1268 - val_accuracy: 0.9994\n",
            "Epoch 25/100\n",
            "57/57 [==============================] - ETA: 0s - loss: 0.1324 - accuracy: 0.9982\n",
            "Epoch 25: saving model to /content/best-modelsa.hdf5\n",
            "57/57 [==============================] - 91s 2s/step - loss: 0.1324 - accuracy: 0.9982 - val_loss: 0.1402 - val_accuracy: 0.9981\n",
            "Epoch 26/100\n",
            "57/57 [==============================] - ETA: 0s - loss: 0.1767 - accuracy: 0.9971\n",
            "Epoch 26: saving model to /content/best-modelsa.hdf5\n",
            "57/57 [==============================] - 89s 2s/step - loss: 0.1767 - accuracy: 0.9971 - val_loss: 0.3112 - val_accuracy: 0.9812\n",
            "Epoch 27/100\n",
            "57/57 [==============================] - ETA: 0s - loss: 0.6036 - accuracy: 0.9838\n",
            "Epoch 27: saving model to /content/best-modelsa.hdf5\n",
            "57/57 [==============================] - 96s 2s/step - loss: 0.6036 - accuracy: 0.9838 - val_loss: 195.6334 - val_accuracy: 0.1383\n",
            "Epoch 28/100\n",
            "57/57 [==============================] - ETA: 0s - loss: 0.9532 - accuracy: 0.9730\n",
            "Epoch 28: saving model to /content/best-modelsa.hdf5\n",
            "57/57 [==============================] - 91s 2s/step - loss: 0.9532 - accuracy: 0.9730 - val_loss: 2.8959 - val_accuracy: 0.8462\n",
            "Epoch 29/100\n",
            "57/57 [==============================] - ETA: 0s - loss: 0.5296 - accuracy: 0.9875\n",
            "Epoch 29: saving model to /content/best-modelsa.hdf5\n",
            "57/57 [==============================] - 86s 2s/step - loss: 0.5296 - accuracy: 0.9875 - val_loss: 0.4291 - val_accuracy: 0.9939\n",
            "Epoch 30/100\n",
            "57/57 [==============================] - ETA: 0s - loss: 0.3874 - accuracy: 0.9958\n",
            "Epoch 30: saving model to /content/best-modelsa.hdf5\n",
            "57/57 [==============================] - 94s 2s/step - loss: 0.3874 - accuracy: 0.9958 - val_loss: 0.3157 - val_accuracy: 0.9986\n",
            "Epoch 31/100\n",
            "57/57 [==============================] - ETA: 0s - loss: 0.2847 - accuracy: 0.9978\n",
            "Epoch 31: saving model to /content/best-modelsa.hdf5\n",
            "57/57 [==============================] - 94s 2s/step - loss: 0.2847 - accuracy: 0.9978 - val_loss: 0.2372 - val_accuracy: 1.0000\n",
            "Epoch 32/100\n",
            "57/57 [==============================] - ETA: 0s - loss: 0.2455 - accuracy: 0.9978\n",
            "Epoch 32: saving model to /content/best-modelsa.hdf5\n",
            "57/57 [==============================] - 101s 2s/step - loss: 0.2455 - accuracy: 0.9978 - val_loss: 0.2322 - val_accuracy: 1.0000\n",
            "Epoch 33/100\n",
            "57/57 [==============================] - ETA: 0s - loss: 0.2552 - accuracy: 0.9990\n",
            "Epoch 33: saving model to /content/best-modelsa.hdf5\n",
            "57/57 [==============================] - 92s 2s/step - loss: 0.2552 - accuracy: 0.9990 - val_loss: 0.2722 - val_accuracy: 0.9961\n",
            "Epoch 34/100\n",
            "57/57 [==============================] - ETA: 0s - loss: 0.2632 - accuracy: 0.9961\n",
            "Epoch 34: saving model to /content/best-modelsa.hdf5\n",
            "57/57 [==============================] - 95s 2s/step - loss: 0.2632 - accuracy: 0.9961 - val_loss: 0.3416 - val_accuracy: 0.9709\n",
            "Epoch 35/100\n",
            "57/57 [==============================] - ETA: 0s - loss: 0.3696 - accuracy: 0.9949\n",
            "Epoch 35: saving model to /content/best-modelsa.hdf5\n",
            "57/57 [==============================] - 96s 2s/step - loss: 0.3696 - accuracy: 0.9949 - val_loss: 0.2594 - val_accuracy: 0.9956\n",
            "Epoch 36/100\n",
            "57/57 [==============================] - ETA: 0s - loss: 0.2656 - accuracy: 0.9974\n",
            "Epoch 36: saving model to /content/best-modelsa.hdf5\n",
            "57/57 [==============================] - 94s 2s/step - loss: 0.2656 - accuracy: 0.9974 - val_loss: 0.4200 - val_accuracy: 0.9681\n",
            "Epoch 37/100\n",
            "57/57 [==============================] - ETA: 0s - loss: 0.2396 - accuracy: 0.9982\n",
            "Epoch 37: saving model to /content/best-modelsa.hdf5\n",
            "57/57 [==============================] - 96s 2s/step - loss: 0.2396 - accuracy: 0.9982 - val_loss: 0.2228 - val_accuracy: 0.9972\n",
            "Epoch 38/100\n",
            "57/57 [==============================] - ETA: 0s - loss: 0.2372 - accuracy: 0.9967\n",
            "Epoch 38: saving model to /content/best-modelsa.hdf5\n",
            "57/57 [==============================] - 95s 2s/step - loss: 0.2372 - accuracy: 0.9967 - val_loss: 0.2205 - val_accuracy: 0.9920\n",
            "Epoch 39/100\n",
            "57/57 [==============================] - ETA: 0s - loss: 0.1537 - accuracy: 0.9993\n",
            "Epoch 39: saving model to /content/best-modelsa.hdf5\n",
            "57/57 [==============================] - 94s 2s/step - loss: 0.1537 - accuracy: 0.9993 - val_loss: 0.1511 - val_accuracy: 1.0000\n",
            "Epoch 40/100\n",
            "57/57 [==============================] - ETA: 0s - loss: 0.1487 - accuracy: 0.9990\n",
            "Epoch 40: saving model to /content/best-modelsa.hdf5\n",
            "57/57 [==============================] - 91s 2s/step - loss: 0.1487 - accuracy: 0.9990 - val_loss: 0.1279 - val_accuracy: 0.9994\n",
            "Epoch 41/100\n",
            "57/57 [==============================] - ETA: 0s - loss: 0.1210 - accuracy: 0.9993\n",
            "Epoch 41: saving model to /content/best-modelsa.hdf5\n",
            "57/57 [==============================] - 94s 2s/step - loss: 0.1210 - accuracy: 0.9993 - val_loss: 0.1084 - val_accuracy: 0.9994\n",
            "Epoch 42/100\n",
            "57/57 [==============================] - ETA: 0s - loss: 0.1097 - accuracy: 0.9996\n",
            "Epoch 42: saving model to /content/best-modelsa.hdf5\n",
            "57/57 [==============================] - 95s 2s/step - loss: 0.1097 - accuracy: 0.9996 - val_loss: 0.0947 - val_accuracy: 1.0000\n",
            "Epoch 43/100\n",
            "57/57 [==============================] - ETA: 0s - loss: 0.1600 - accuracy: 0.9996\n",
            "Epoch 43: saving model to /content/best-modelsa.hdf5\n",
            "57/57 [==============================] - 93s 2s/step - loss: 0.1600 - accuracy: 0.9996 - val_loss: 0.2027 - val_accuracy: 1.0000\n",
            "Epoch 44/100\n",
            "57/57 [==============================] - ETA: 0s - loss: 0.1582 - accuracy: 0.9996\n",
            "Epoch 44: saving model to /content/best-modelsa.hdf5\n",
            "57/57 [==============================] - 93s 2s/step - loss: 0.1582 - accuracy: 0.9996 - val_loss: 2.7305 - val_accuracy: 0.7855\n",
            "Epoch 45/100\n",
            "57/57 [==============================] - ETA: 0s - loss: 0.1768 - accuracy: 0.9996\n",
            "Epoch 45: saving model to /content/best-modelsa.hdf5\n",
            "57/57 [==============================] - 95s 2s/step - loss: 0.1768 - accuracy: 0.9996 - val_loss: 0.1090 - val_accuracy: 1.0000\n",
            "Epoch 46/100\n",
            "57/57 [==============================] - ETA: 0s - loss: 0.0937 - accuracy: 0.9996\n",
            "Epoch 46: saving model to /content/best-modelsa.hdf5\n",
            "57/57 [==============================] - 101s 2s/step - loss: 0.0937 - accuracy: 0.9996 - val_loss: 0.0865 - val_accuracy: 1.0000\n",
            "Epoch 47/100\n",
            "57/57 [==============================] - ETA: 0s - loss: 0.0873 - accuracy: 0.9993\n",
            "Epoch 47: saving model to /content/best-modelsa.hdf5\n",
            "57/57 [==============================] - 97s 2s/step - loss: 0.0873 - accuracy: 0.9993 - val_loss: 0.0764 - val_accuracy: 1.0000\n",
            "Epoch 48/100\n",
            "57/57 [==============================] - ETA: 0s - loss: 0.0725 - accuracy: 0.9996\n",
            "Epoch 48: saving model to /content/best-modelsa.hdf5\n",
            "57/57 [==============================] - 92s 2s/step - loss: 0.0725 - accuracy: 0.9996 - val_loss: 0.0659 - val_accuracy: 0.9997\n",
            "Epoch 49/100\n",
            "57/57 [==============================] - ETA: 0s - loss: 0.0709 - accuracy: 0.9996\n",
            "Epoch 49: saving model to /content/best-modelsa.hdf5\n",
            "57/57 [==============================] - 94s 2s/step - loss: 0.0709 - accuracy: 0.9996 - val_loss: 0.0647 - val_accuracy: 0.9997\n",
            "Epoch 50/100\n",
            "57/57 [==============================] - ETA: 0s - loss: 0.0600 - accuracy: 0.9997\n",
            "Epoch 50: saving model to /content/best-modelsa.hdf5\n",
            "57/57 [==============================] - 92s 2s/step - loss: 0.0600 - accuracy: 0.9997 - val_loss: 0.0568 - val_accuracy: 0.9997\n",
            "Epoch 51/100\n",
            "57/57 [==============================] - ETA: 0s - loss: 0.1385 - accuracy: 0.9994\n",
            "Epoch 51: saving model to /content/best-modelsa.hdf5\n",
            "57/57 [==============================] - 101s 2s/step - loss: 0.1385 - accuracy: 0.9994 - val_loss: 0.4650 - val_accuracy: 0.9346\n",
            "Epoch 52/100\n",
            "57/57 [==============================] - ETA: 0s - loss: 0.1552 - accuracy: 0.9981\n",
            "Epoch 52: saving model to /content/best-modelsa.hdf5\n",
            "57/57 [==============================] - 90s 2s/step - loss: 0.1552 - accuracy: 0.9981 - val_loss: 0.1985 - val_accuracy: 0.9853\n",
            "Epoch 53/100\n",
            "57/57 [==============================] - ETA: 0s - loss: 0.1104 - accuracy: 0.9986\n",
            "Epoch 53: saving model to /content/best-modelsa.hdf5\n",
            "57/57 [==============================] - 88s 2s/step - loss: 0.1104 - accuracy: 0.9986 - val_loss: 0.0741 - val_accuracy: 1.0000\n",
            "Epoch 54/100\n",
            "57/57 [==============================] - ETA: 0s - loss: 0.1164 - accuracy: 0.9999\n",
            "Epoch 54: saving model to /content/best-modelsa.hdf5\n",
            "57/57 [==============================] - 101s 2s/step - loss: 0.1164 - accuracy: 0.9999 - val_loss: 0.0652 - val_accuracy: 1.0000\n",
            "Epoch 55/100\n",
            "57/57 [==============================] - ETA: 0s - loss: 0.0559 - accuracy: 0.9997\n",
            "Epoch 55: saving model to /content/best-modelsa.hdf5\n",
            "57/57 [==============================] - 102s 2s/step - loss: 0.0559 - accuracy: 0.9997 - val_loss: 0.0509 - val_accuracy: 1.0000\n",
            "Epoch 56/100\n",
            "57/57 [==============================] - ETA: 0s - loss: 0.2800 - accuracy: 0.9950\n",
            "Epoch 56: saving model to /content/best-modelsa.hdf5\n",
            "57/57 [==============================] - 95s 2s/step - loss: 0.2800 - accuracy: 0.9950 - val_loss: 71.0681 - val_accuracy: 0.3922\n",
            "Epoch 57/100\n",
            "57/57 [==============================] - ETA: 0s - loss: 0.8666 - accuracy: 0.9868\n",
            "Epoch 57: saving model to /content/best-modelsa.hdf5\n",
            "57/57 [==============================] - 97s 2s/step - loss: 0.8666 - accuracy: 0.9868 - val_loss: 1.0438 - val_accuracy: 0.9526\n",
            "Epoch 58/100\n",
            "57/57 [==============================] - ETA: 0s - loss: 0.7077 - accuracy: 0.9881\n",
            "Epoch 58: saving model to /content/best-modelsa.hdf5\n",
            "57/57 [==============================] - 98s 2s/step - loss: 0.7077 - accuracy: 0.9881 - val_loss: 0.5084 - val_accuracy: 0.9917\n",
            "Epoch 59/100\n",
            "57/57 [==============================] - ETA: 0s - loss: 0.4747 - accuracy: 0.9915\n",
            "Epoch 59: saving model to /content/best-modelsa.hdf5\n",
            "57/57 [==============================] - 97s 2s/step - loss: 0.4747 - accuracy: 0.9915 - val_loss: 0.4919 - val_accuracy: 0.9789\n",
            "Epoch 60/100\n",
            "57/57 [==============================] - ETA: 0s - loss: 0.3953 - accuracy: 0.9910\n",
            "Epoch 60: saving model to /content/best-modelsa.hdf5\n",
            "57/57 [==============================] - 88s 2s/step - loss: 0.3953 - accuracy: 0.9910 - val_loss: 0.3098 - val_accuracy: 0.9970\n",
            "Epoch 61/100\n",
            "57/57 [==============================] - ETA: 0s - loss: 0.3311 - accuracy: 0.9943\n",
            "Epoch 61: saving model to /content/best-modelsa.hdf5\n",
            "57/57 [==============================] - 83s 1s/step - loss: 0.3311 - accuracy: 0.9943 - val_loss: 0.2581 - val_accuracy: 0.9920\n",
            "Epoch 62/100\n",
            "57/57 [==============================] - ETA: 0s - loss: 0.2401 - accuracy: 0.9971\n",
            "Epoch 62: saving model to /content/best-modelsa.hdf5\n",
            "57/57 [==============================] - 88s 2s/step - loss: 0.2401 - accuracy: 0.9971 - val_loss: 0.2142 - val_accuracy: 0.9989\n",
            "Epoch 63/100\n",
            "57/57 [==============================] - ETA: 0s - loss: 0.1922 - accuracy: 0.9976\n",
            "Epoch 63: saving model to /content/best-modelsa.hdf5\n",
            "57/57 [==============================] - 91s 2s/step - loss: 0.1922 - accuracy: 0.9976 - val_loss: 0.1603 - val_accuracy: 0.9997\n",
            "Epoch 64/100\n",
            "57/57 [==============================] - ETA: 0s - loss: 0.2157 - accuracy: 0.9976\n",
            "Epoch 64: saving model to /content/best-modelsa.hdf5\n",
            "57/57 [==============================] - 91s 2s/step - loss: 0.2157 - accuracy: 0.9976 - val_loss: 0.3916 - val_accuracy: 0.9651\n",
            "Epoch 65/100\n",
            "57/57 [==============================] - ETA: 0s - loss: 0.1856 - accuracy: 0.9994\n",
            "Epoch 65: saving model to /content/best-modelsa.hdf5\n",
            "57/57 [==============================] - 89s 2s/step - loss: 0.1856 - accuracy: 0.9994 - val_loss: 0.1519 - val_accuracy: 0.9981\n",
            "Epoch 66/100\n",
            "57/57 [==============================] - ETA: 0s - loss: 0.1325 - accuracy: 0.9988\n",
            "Epoch 66: saving model to /content/best-modelsa.hdf5\n",
            "57/57 [==============================] - 90s 2s/step - loss: 0.1325 - accuracy: 0.9988 - val_loss: 0.1113 - val_accuracy: 1.0000\n",
            "Epoch 67/100\n",
            "57/57 [==============================] - ETA: 0s - loss: 0.1025 - accuracy: 0.9997\n",
            "Epoch 67: saving model to /content/best-modelsa.hdf5\n",
            "57/57 [==============================] - 90s 2s/step - loss: 0.1025 - accuracy: 0.9997 - val_loss: 0.0934 - val_accuracy: 1.0000\n",
            "Epoch 68/100\n",
            "57/57 [==============================] - ETA: 0s - loss: 0.0983 - accuracy: 0.9993\n",
            "Epoch 68: saving model to /content/best-modelsa.hdf5\n",
            "57/57 [==============================] - 94s 2s/step - loss: 0.0983 - accuracy: 0.9993 - val_loss: 0.0976 - val_accuracy: 1.0000\n",
            "Epoch 69/100\n",
            "57/57 [==============================] - ETA: 0s - loss: 0.1456 - accuracy: 0.9976\n",
            "Epoch 69: saving model to /content/best-modelsa.hdf5\n",
            "57/57 [==============================] - 86s 2s/step - loss: 0.1456 - accuracy: 0.9976 - val_loss: 0.2394 - val_accuracy: 0.9903\n",
            "Epoch 70/100\n",
            "57/57 [==============================] - ETA: 0s - loss: 0.2773 - accuracy: 0.9929\n",
            "Epoch 70: saving model to /content/best-modelsa.hdf5\n",
            "57/57 [==============================] - 94s 2s/step - loss: 0.2773 - accuracy: 0.9929 - val_loss: 9.6665 - val_accuracy: 0.7151\n",
            "Epoch 71/100\n",
            "57/57 [==============================] - ETA: 0s - loss: 0.2869 - accuracy: 0.9965\n",
            "Epoch 71: saving model to /content/best-modelsa.hdf5\n",
            "57/57 [==============================] - 89s 2s/step - loss: 0.2869 - accuracy: 0.9965 - val_loss: 0.2102 - val_accuracy: 0.9967\n",
            "Epoch 72/100\n",
            "57/57 [==============================] - ETA: 0s - loss: 0.1826 - accuracy: 0.9982\n",
            "Epoch 72: saving model to /content/best-modelsa.hdf5\n",
            "57/57 [==============================] - 89s 2s/step - loss: 0.1826 - accuracy: 0.9982 - val_loss: 0.2141 - val_accuracy: 0.9983\n",
            "Epoch 73/100\n",
            "57/57 [==============================] - ETA: 0s - loss: 0.1790 - accuracy: 0.9986\n",
            "Epoch 73: saving model to /content/best-modelsa.hdf5\n",
            "57/57 [==============================] - 89s 2s/step - loss: 0.1790 - accuracy: 0.9986 - val_loss: 0.6897 - val_accuracy: 0.9543\n",
            "Epoch 74/100\n",
            "57/57 [==============================] - ETA: 0s - loss: 0.3904 - accuracy: 0.9989\n",
            "Epoch 74: saving model to /content/best-modelsa.hdf5\n",
            "57/57 [==============================] - 86s 2s/step - loss: 0.3904 - accuracy: 0.9989 - val_loss: 0.1896 - val_accuracy: 0.9994\n",
            "Epoch 75/100\n",
            "57/57 [==============================] - ETA: 0s - loss: 0.1647 - accuracy: 0.9989\n",
            "Epoch 75: saving model to /content/best-modelsa.hdf5\n",
            "57/57 [==============================] - 91s 2s/step - loss: 0.1647 - accuracy: 0.9989 - val_loss: 0.1220 - val_accuracy: 1.0000\n",
            "Epoch 76/100\n",
            "57/57 [==============================] - ETA: 0s - loss: 0.1119 - accuracy: 0.9990\n",
            "Epoch 76: saving model to /content/best-modelsa.hdf5\n",
            "57/57 [==============================] - 91s 2s/step - loss: 0.1119 - accuracy: 0.9990 - val_loss: 0.1051 - val_accuracy: 1.0000\n",
            "Epoch 77/100\n",
            "57/57 [==============================] - ETA: 0s - loss: 0.1099 - accuracy: 0.9990\n",
            "Epoch 77: saving model to /content/best-modelsa.hdf5\n",
            "57/57 [==============================] - 90s 2s/step - loss: 0.1099 - accuracy: 0.9990 - val_loss: 0.1316 - val_accuracy: 0.9989\n",
            "Epoch 78/100\n",
            "57/57 [==============================] - ETA: 0s - loss: 0.0947 - accuracy: 0.9996\n",
            "Epoch 78: saving model to /content/best-modelsa.hdf5\n",
            "57/57 [==============================] - 89s 2s/step - loss: 0.0947 - accuracy: 0.9996 - val_loss: 0.0771 - val_accuracy: 0.9994\n",
            "Epoch 79/100\n",
            "57/57 [==============================] - ETA: 0s - loss: 0.0963 - accuracy: 0.9992\n",
            "Epoch 79: saving model to /content/best-modelsa.hdf5\n",
            "57/57 [==============================] - 91s 2s/step - loss: 0.0963 - accuracy: 0.9992 - val_loss: 0.0724 - val_accuracy: 0.9992\n",
            "Epoch 80/100\n",
            "57/57 [==============================] - ETA: 0s - loss: 0.0909 - accuracy: 0.9988\n",
            "Epoch 80: saving model to /content/best-modelsa.hdf5\n",
            "57/57 [==============================] - 90s 2s/step - loss: 0.0909 - accuracy: 0.9988 - val_loss: 0.1243 - val_accuracy: 0.9994\n",
            "Epoch 81/100\n",
            "57/57 [==============================] - ETA: 0s - loss: 0.0906 - accuracy: 0.9990\n",
            "Epoch 81: saving model to /content/best-modelsa.hdf5\n",
            "57/57 [==============================] - 89s 2s/step - loss: 0.0906 - accuracy: 0.9990 - val_loss: 0.0937 - val_accuracy: 0.9983\n",
            "Epoch 82/100\n",
            "57/57 [==============================] - ETA: 0s - loss: 0.0676 - accuracy: 0.9996\n",
            "Epoch 82: saving model to /content/best-modelsa.hdf5\n",
            "57/57 [==============================] - 89s 2s/step - loss: 0.0676 - accuracy: 0.9996 - val_loss: 0.0588 - val_accuracy: 1.0000\n",
            "Epoch 83/100\n",
            "57/57 [==============================] - ETA: 0s - loss: 0.0530 - accuracy: 0.9997\n",
            "Epoch 83: saving model to /content/best-modelsa.hdf5\n",
            "57/57 [==============================] - 94s 2s/step - loss: 0.0530 - accuracy: 0.9997 - val_loss: 0.0450 - val_accuracy: 1.0000\n",
            "Epoch 84/100\n",
            "57/57 [==============================] - ETA: 0s - loss: 0.0435 - accuracy: 1.0000\n",
            "Epoch 84: saving model to /content/best-modelsa.hdf5\n",
            "57/57 [==============================] - 94s 2s/step - loss: 0.0435 - accuracy: 1.0000 - val_loss: 0.0398 - val_accuracy: 1.0000\n",
            "Epoch 85/100\n",
            "57/57 [==============================] - ETA: 0s - loss: 0.0376 - accuracy: 1.0000\n",
            "Epoch 85: saving model to /content/best-modelsa.hdf5\n",
            "57/57 [==============================] - 85s 2s/step - loss: 0.0376 - accuracy: 1.0000 - val_loss: 0.0354 - val_accuracy: 1.0000\n",
            "Epoch 86/100\n",
            "57/57 [==============================] - ETA: 0s - loss: 0.0341 - accuracy: 0.9999\n",
            "Epoch 86: saving model to /content/best-modelsa.hdf5\n",
            "57/57 [==============================] - 87s 2s/step - loss: 0.0341 - accuracy: 0.9999 - val_loss: 0.0323 - val_accuracy: 1.0000\n",
            "Epoch 87/100\n",
            "57/57 [==============================] - ETA: 0s - loss: 0.0311 - accuracy: 1.0000\n",
            "Epoch 87: saving model to /content/best-modelsa.hdf5\n",
            "57/57 [==============================] - 89s 2s/step - loss: 0.0311 - accuracy: 1.0000 - val_loss: 0.0296 - val_accuracy: 1.0000\n",
            "Epoch 88/100\n",
            "57/57 [==============================] - ETA: 0s - loss: 0.0289 - accuracy: 0.9999\n",
            "Epoch 88: saving model to /content/best-modelsa.hdf5\n",
            "57/57 [==============================] - 88s 2s/step - loss: 0.0289 - accuracy: 0.9999 - val_loss: 0.0273 - val_accuracy: 1.0000\n",
            "Epoch 89/100\n",
            "57/57 [==============================] - ETA: 0s - loss: 0.0277 - accuracy: 0.9999\n",
            "Epoch 89: saving model to /content/best-modelsa.hdf5\n",
            "57/57 [==============================] - 89s 2s/step - loss: 0.0277 - accuracy: 0.9999 - val_loss: 0.0265 - val_accuracy: 1.0000\n",
            "Epoch 90/100\n",
            "57/57 [==============================] - ETA: 0s - loss: 0.0279 - accuracy: 0.9999\n",
            "Epoch 90: saving model to /content/best-modelsa.hdf5\n",
            "57/57 [==============================] - 101s 2s/step - loss: 0.0279 - accuracy: 0.9999 - val_loss: 0.0611 - val_accuracy: 0.9964\n",
            "Epoch 91/100\n",
            "57/57 [==============================] - ETA: 0s - loss: 0.0495 - accuracy: 0.9996\n",
            "Epoch 91: saving model to /content/best-modelsa.hdf5\n",
            "57/57 [==============================] - 90s 2s/step - loss: 0.0495 - accuracy: 0.9996 - val_loss: 0.0316 - val_accuracy: 1.0000\n",
            "Epoch 92/100\n",
            "57/57 [==============================] - ETA: 0s - loss: 0.0327 - accuracy: 1.0000\n",
            "Epoch 92: saving model to /content/best-modelsa.hdf5\n",
            "57/57 [==============================] - 88s 2s/step - loss: 0.0327 - accuracy: 1.0000 - val_loss: 0.0252 - val_accuracy: 0.9997\n",
            "Epoch 93/100\n",
            "57/57 [==============================] - ETA: 0s - loss: 0.0229 - accuracy: 1.0000\n",
            "Epoch 93: saving model to /content/best-modelsa.hdf5\n",
            "57/57 [==============================] - 87s 2s/step - loss: 0.0229 - accuracy: 1.0000 - val_loss: 0.0215 - val_accuracy: 1.0000\n",
            "Epoch 94/100\n",
            "57/57 [==============================] - ETA: 0s - loss: 0.0205 - accuracy: 1.0000\n",
            "Epoch 94: saving model to /content/best-modelsa.hdf5\n",
            "57/57 [==============================] - 89s 2s/step - loss: 0.0205 - accuracy: 1.0000 - val_loss: 0.0192 - val_accuracy: 1.0000\n",
            "Epoch 95/100\n",
            "57/57 [==============================] - ETA: 0s - loss: 0.0188 - accuracy: 1.0000\n",
            "Epoch 95: saving model to /content/best-modelsa.hdf5\n",
            "57/57 [==============================] - 88s 2s/step - loss: 0.0188 - accuracy: 1.0000 - val_loss: 0.0210 - val_accuracy: 1.0000\n",
            "Epoch 96/100\n",
            "57/57 [==============================] - ETA: 0s - loss: 0.0489 - accuracy: 0.9982\n",
            "Epoch 96: saving model to /content/best-modelsa.hdf5\n",
            "57/57 [==============================] - 90s 2s/step - loss: 0.0489 - accuracy: 0.9982 - val_loss: 0.0599 - val_accuracy: 0.9981\n",
            "Epoch 97/100\n",
            "57/57 [==============================] - ETA: 0s - loss: 0.0462 - accuracy: 0.9993\n",
            "Epoch 97: saving model to /content/best-modelsa.hdf5\n",
            "57/57 [==============================] - 90s 2s/step - loss: 0.0462 - accuracy: 0.9993 - val_loss: 0.0327 - val_accuracy: 0.9997\n",
            "Epoch 98/100\n",
            "57/57 [==============================] - ETA: 0s - loss: 0.0664 - accuracy: 0.9965\n",
            "Epoch 98: saving model to /content/best-modelsa.hdf5\n",
            "57/57 [==============================] - 96s 2s/step - loss: 0.0664 - accuracy: 0.9965 - val_loss: 0.1099 - val_accuracy: 0.9942\n",
            "Epoch 99/100\n",
            "57/57 [==============================] - ETA: 0s - loss: 0.1145 - accuracy: 0.9950\n",
            "Epoch 99: saving model to /content/best-modelsa.hdf5\n",
            "57/57 [==============================] - 86s 2s/step - loss: 0.1145 - accuracy: 0.9950 - val_loss: 0.1140 - val_accuracy: 0.9970\n",
            "Epoch 100/100\n",
            "57/57 [==============================] - ETA: 0s - loss: 0.1088 - accuracy: 0.9970\n",
            "Epoch 100: saving model to /content/best-modelsa.hdf5\n",
            "57/57 [==============================] - 89s 2s/step - loss: 0.1088 - accuracy: 0.9970 - val_loss: 0.2695 - val_accuracy: 0.9853\n"
          ]
        }
      ]
    },
    {
      "cell_type": "markdown",
      "source": [
        "**Training graphs**"
      ],
      "metadata": {
        "id": "z796_wip3yfN"
      }
    },
    {
      "cell_type": "code",
      "source": [
        "plt.figure(figsize=(7,7))\n",
        "plt.grid()\n",
        "plt.plot(history.history['loss'])\n",
        "plt.plot(history.history['val_loss'])\n",
        "plt.ylabel('Loss')\n",
        "plt.xlabel('Epochs')\n",
        "plt.legend(['Training','Validation'], loc='upper right')\n",
        "plt.savefig(\"/content/loss_curve.pdf\")\n",
        "plt.savefig(\"/content/loss_curve.jpg\")\n",
        "plt.show()\n",
        "plt.figure(figsize=(7,7))\n",
        "plt.ylim(0,1.1)\n",
        "plt.grid()\n",
        "plt.plot(history.history['accuracy'])\n",
        "plt.plot(history.history['val_accuracy'])\n",
        "plt.ylabel('Accuracy')\n",
        "plt.xlabel('Epochs')\n",
        "plt.legend(['Training','Validation'])\n",
        "plt.savefig(\"/content/acc_curve.pdf\")\n",
        "plt.savefig(\"/content/acc_curve.jpg\")\n",
        "plt.show()"
      ],
      "metadata": {
        "colab": {
          "base_uri": "https://localhost:8080/",
          "height": 1000
        },
        "id": "6m58gD5L2fc1",
        "outputId": "7984ab95-c761-491f-a5fd-ed3fcf89dd81"
      },
      "execution_count": null,
      "outputs": [
        {
          "output_type": "display_data",
          "data": {
            "text/plain": [
              "<Figure size 700x700 with 1 Axes>"
            ],
            "image/png": "[encoded data removed]"
          },
          "metadata": {}
        },
        {
          "output_type": "display_data",
          "data": {
            "text/plain": [
              "<Figure size 700x700 with 1 Axes>"
            ],
            "image/png": "[encoded data removed]"
          },
          "metadata": {}
        }
      ]
    },
    {
      "cell_type": "code",
      "source": [
        "# load best weights\n",
        "adam = keras.optimizers.Adam(learning_rate=0.001)\n",
        "model.compile(loss='categorical_crossentropy', optimizer=adam, metrics=['accuracy'])"
      ],
      "metadata": {
        "id": "viN6hVkrV_WZ"
      },
      "execution_count": null,
      "outputs": []
    },
    {
      "cell_type": "code",
      "source": [
        "# Assuming Xtest_branch1, Xtest_branch2, and Xtest_branch3 are your input arrays for each branch\n",
        "Y_pred_test = model.predict([Xtest_branch1, Xtest_branch2, Xtest_branch3])"
      ],
      "metadata": {
        "id": "UjavgEOuAFRt",
        "colab": {
          "base_uri": "https://localhost:8080/"
        },
        "outputId": "399662c9-e0bc-4205-ac3c-de5a651b3c40"
      },
      "execution_count": null,
      "outputs": [
        {
          "output_type": "stream",
          "name": "stdout",
          "text": [
            "1354/1354 [==============================] - 142s 103ms/step\n"
          ]
        }
      ]
    },
    {
      "cell_type": "code",
      "source": [
        "y_pred_test = np.argmax(Y_pred_test, axis=1)\n",
        "classification = classification_report(np.argmax(ytest_branch, axis=1), y_pred_test, zero_division = 1)\n",
        "print(classification)"
      ],
      "metadata": {
        "id": "s1b7JJew3Kud",
        "colab": {
          "base_uri": "https://localhost:8080/"
        },
        "outputId": "2ed71d51-8790-4a61-f997-e508f14d4212"
      },
      "execution_count": null,
      "outputs": [
        {
          "output_type": "stream",
          "name": "stdout",
          "text": [
            "              precision    recall  f1-score   support\n",
            "\n",
            "           0       1.00      0.95      0.98      1607\n",
            "           1       1.00      1.00      1.00      2981\n",
            "           2       0.99      1.00      1.00      1581\n",
            "           3       0.99      0.99      0.99      1115\n",
            "           4       1.00      1.00      1.00      2142\n",
            "           5       1.00      1.00      1.00      3167\n",
            "           6       1.00      1.00      1.00      2863\n",
            "           7       0.97      0.99      0.98      9017\n",
            "           8       1.00      1.00      1.00      4963\n",
            "           9       0.89      1.00      0.94      2622\n",
            "          10       1.00      1.00      1.00       854\n",
            "          11       1.00      0.99      1.00      1542\n",
            "          12       0.91      0.99      0.95       733\n",
            "          13       0.94      1.00      0.97       856\n",
            "          14       1.00      0.93      0.97      5815\n",
            "          15       1.00      0.89      0.94      1446\n",
            "\n",
            "    accuracy                           0.98     43304\n",
            "   macro avg       0.98      0.98      0.98     43304\n",
            "weighted avg       0.98      0.98      0.98     43304\n",
            "\n"
          ]
        }
      ]
    },
    {
      "cell_type": "code",
      "source": [
        "def AA_andEachClassAccuracy(confusion_matrix):\n",
        "    counter = confusion_matrix.shape[0]\n",
        "    list_diag = np.diag(confusion_matrix)\n",
        "    list_raw_sum = np.sum(confusion_matrix, axis=1)\n",
        "    each_acc = np.nan_to_num(truediv(list_diag, list_raw_sum))\n",
        "    average_acc = np.mean(each_acc)\n",
        "    return each_acc, average_acc"
      ],
      "metadata": {
        "id": "Z_bhuR3Y3Sct"
      },
      "execution_count": null,
      "outputs": []
    },
    {
      "cell_type": "code",
      "source": [
        "def reports(name):\n",
        "    start = time.time()\n",
        "    Y_pred = model.predict([Xtest_branch1, Xtest_branch2, Xtest_branch3])\n",
        "    y_pred = np.argmax(Y_pred, axis=1)\n",
        "    end = time.time()\n",
        "    print(end - start)\n",
        "    if name == 'IP':\n",
        "        target_names = ['Alfalfa', 'Corn-notill', 'Corn-mintill', 'Corn'\n",
        "                        ,'Grass-pasture', 'Grass-trees', 'Grass-pasture-mowed',\n",
        "                        'Hay-windrowed', 'Oats', 'Soybean-notill', 'Soybean-mintill',\n",
        "                        'Soybean-clean', 'Wheat', 'Woods', 'Buildings-Grass-Trees-Drives',\n",
        "                        'Stone-Steel-Towers']\n",
        "    elif name == 'SA':\n",
        "        target_names = ['Brocoli_green_weeds_1','Brocoli_green_weeds_2','Fallow','Fallow_rough_plow','Fallow_smooth',\n",
        "                        'Stubble','Celery','Grapes_untrained','Soil_vinyard_develop','Corn_senesced_green_weeds',\n",
        "                        'Lettuce_romaine_4wk','Lettuce_romaine_5wk','Lettuce_romaine_6wk','Lettuce_romaine_7wk',\n",
        "                        'Vinyard_untrained','Vinyard_vertical_trellis']\n",
        "    elif name == 'PU':\n",
        "        target_names = ['Asphalt','Meadows','Gravel','Trees', 'Painted metal sheets','Bare Soil','Bitumen',\n",
        "                        'Self-Blocking Bricks','Shadows']\n",
        "\n",
        "    classification = classification_report(np.argmax(ytest_branch, axis=1), y_pred, target_names=target_names, zero_division = 1)\n",
        "    oa = accuracy_score(np.argmax(ytest_branch, axis=1), y_pred)\n",
        "    confusion = confusion_matrix(np.argmax(ytest_branch, axis=1), y_pred)\n",
        "    each_acc, aa = AA_andEachClassAccuracy(confusion)\n",
        "    kappa = cohen_kappa_score(np.argmax(ytest_branch, axis=1), y_pred)\n",
        "    score = model.evaluate([Xtest_branch1, Xtest_branch2, Xtest_branch3], ytest_branch, batch_size=32)\n",
        "    Test_Loss =  score[0]*100\n",
        "    Test_accuracy = score[1]*100\n",
        "    return classification, confusion, Test_Loss, Test_accuracy, oa*100, each_acc*100, aa*100, kappa*100"
      ],
      "metadata": {
        "id": "oHn1KQ1Q3WW_"
      },
      "execution_count": null,
      "outputs": []
    },
    {
      "cell_type": "code",
      "source": [
        "# Assuming Xtest, ytest, and dataset are your test data and corresponding labels\n",
        "\n",
        "# Generate classification reports and other metrics using the reports function\n",
        "classification, confusion, Test_loss, Test_accuracy, oa, each_acc, aa, kappa = reports(dataset)\n",
        "\n",
        "# Print or use the generated metrics and reports\n",
        "print(\"Classification Report:\\n\", classification)\n",
        "print(\"Confusion Matrix:\\n\", confusion)\n",
        "print(\"Test Loss:\", Test_loss)\n",
        "print(\"Test Accuracy:\", Test_accuracy)\n",
        "print(\"Overall Accuracy (OA):\", oa)\n",
        "print(\"Each Class Accuracy:\", each_acc)\n",
        "print(\"Average Accuracy (AA):\", aa)\n",
        "print(\"Kappa:\", kappa)"
      ],
      "metadata": {
        "id": "oNOb0KpcCcSd"
      },
      "execution_count": null,
      "outputs": []
    },
    {
      "cell_type": "code",
      "source": [
        "classification = str(classification)\n",
        "confusion = str(confusion)\n",
        "file_name = \"/content/classification_report.txt\"\n",
        "\n",
        "\n",
        "with open(file_name, 'w') as x_file:\n",
        "    x_file.write('{} Test loss (%)'.format(Test_loss))\n",
        "    x_file.write('\\n')\n",
        "    x_file.write('{} Test accuracy (%)'.format(Test_accuracy))\n",
        "    x_file.write('\\n')\n",
        "    x_file.write('\\n')\n",
        "    x_file.write('{} Kappa accuracy (%)'.format(kappa))\n",
        "    x_file.write('\\n')\n",
        "    x_file.write('{} Overall accuracy (%)'.format(oa))\n",
        "    x_file.write('\\n')\n",
        "    x_file.write('{} Average accuracy (%)'.format(aa))\n",
        "    x_file.write('\\n')\n",
        "    x_file.write('\\n')\n",
        "    x_file.write('{}'.format(classification))\n",
        "    x_file.write('\\n')\n",
        "    x_file.write('{}'.format(confusion))"
      ],
      "metadata": {
        "id": "UUQ0PLPLGB1K"
      },
      "execution_count": null,
      "outputs": []
    },
    {
      "cell_type": "code",
      "source": [
        "def Patch(data,height_index,width_index):\n",
        "    height_slice = slice(height_index, height_index+PATCH_SIZE)\n",
        "    width_slice = slice(width_index, width_index+PATCH_SIZE)\n",
        "    patch = data[height_slice, width_slice, :]\n",
        "    return patch"
      ],
      "metadata": {
        "id": "aqADMVqNGEG6"
      },
      "execution_count": null,
      "outputs": []
    },
    {
      "cell_type": "code",
      "source": [
        "# load the original image\n",
        "X, y = loadData(dataset)\n",
        "height = y.shape[0]\n",
        "width = y.shape[1]\n",
        "PATCH_SIZE = windowSize"
      ],
      "metadata": {
        "id": "entV1FX3GE2j"
      },
      "execution_count": null,
      "outputs": []
    },
    {
      "cell_type": "code",
      "source": [
        "K = 16\n",
        "X,pca = applyPCA(X, numComponents=K)\n",
        "X = padWithZeros(X, PATCH_SIZE//2)"
      ],
      "metadata": {
        "id": "FTW9IDh4GHiJ"
      },
      "execution_count": null,
      "outputs": []
    },
    {
      "cell_type": "code",
      "source": [
        "# calculate the predicted image\n",
        "outputs = np.zeros((height,width))\n",
        "for i in range(height):\n",
        "    for j in range(width):\n",
        "        target = int(y[i,j])\n",
        "        if target == 0 :\n",
        "            continue\n",
        "        else :\n",
        "            image_patch=Patch(X,i,j)\n",
        "            X_test_image = image_patch.reshape(1,image_patch.shape[0],image_patch.shape[1], image_patch.shape[2], 1).astype('float32')\n",
        "            prediction = (model.predict([X_test_image, X_test_image, X_test_image]))\n",
        "            prediction = np.argmax(prediction, axis=1)\n",
        "            outputs[i][j] = prediction+1"
      ],
      "metadata": {
        "id": "Atits9jLGMJD"
      },
      "execution_count": null,
      "outputs": []
    },
    {
      "cell_type": "code",
      "source": [
        "ground_truth = spectral.imshow(classes = y,figsize =(7,7))"
      ],
      "metadata": {
        "id": "gY3W5LpxGPEK"
      },
      "execution_count": null,
      "outputs": []
    },
    {
      "cell_type": "code",
      "source": [
        "predict_image = spectral.imshow(classes = outputs.astype(int),figsize =(7,7))"
      ],
      "metadata": {
        "id": "XFdcpJkwGRSi"
      },
      "execution_count": null,
      "outputs": []
    },
    {
      "cell_type": "code",
      "source": [
        "spectral.save_rgb(\"predictions.jpg\", outputs.astype(int), colors=spectral.spy_colors)"
      ],
      "metadata": {
        "id": "KY8gBsPmGT09"
      },
      "execution_count": null,
      "outputs": []
    },
    {
      "cell_type": "code",
      "source": [],
      "metadata": {
        "id": "oISaeVhpC8Yz"
      },
      "execution_count": null,
      "outputs": []
    }
  ]
}